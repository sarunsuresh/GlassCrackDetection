{
 "cells": [
  {
   "cell_type": "markdown",
   "id": "9c083ef4-9536-46d6-93b4-3594cc5914be",
   "metadata": {},
   "source": [
    "# Resource allocation and Product Scheduling"
   ]
  },
  {
   "cell_type": "code",
   "execution_count": 9,
   "id": "3174fd52-4fc2-4808-9bda-16b775a6b4ff",
   "metadata": {},
   "outputs": [
    {
     "name": "stdout",
     "output_type": "stream",
     "text": [
      "\n",
      "📦 Optimal Product Scheduling Plan:\n",
      "  - Sheets to Produce: 2504.00\n",
      "\n",
      "🔧 Optimal Repair Allocation:\n",
      "  - Small Cracks via Process A: 777.00\n",
      "  - Small Cracks via Process B: 0.00\n",
      "  - Heavy Cracks via Process A: 0.00\n",
      "  - Heavy Cracks via Process B: 970.00\n",
      "\n",
      "💰 Maximum Profit: ₹36495.00\n"
     ]
    }
   ],
   "source": [
    "from pulp import LpMaximize, LpProblem, LpVariable, value\n",
    "\n",
    "# Based on real data (757, 777, 970)\n",
    "total = 757 + 777 + 970\n",
    "p_no_crack = 757 / total      # ≈ 0.3028\n",
    "p_small_crack = 777 / total   # ≈ 0.3108\n",
    "p_heavy_crack = 970 / total   # ≈ 0.3864\n",
    "\n",
    "# Create LP problem\n",
    "prob = LpProblem(\"Maximize_Profit_with_Production_Scheduling\", LpMaximize)\n",
    "\n",
    "# Decision Variables\n",
    "P = LpVariable(\"Sheets_Produced\", lowBound=0, upBound=2504, cat='Continuous')\n",
    "x1 = LpVariable(\"SmallCrack_ProcessA\", lowBound=0, cat='Continuous')\n",
    "x2 = LpVariable(\"SmallCrack_ProcessB\", lowBound=0, cat='Continuous')\n",
    "y1 = LpVariable(\"HeavyCrack_ProcessA\", lowBound=0, cat='Continuous')\n",
    "y2 = LpVariable(\"HeavyCrack_ProcessB\", lowBound=0, cat='Continuous')\n",
    "\n",
    "# Constraints\n",
    "prob += x1 + x2 == p_small_crack * P, \"Small_Crack_Repair_Total\"\n",
    "prob += y1 + y2 == p_heavy_crack * P, \"Heavy_Crack_Repair_Total\"\n",
    "\n",
    "# Objective: Maximize Profit = Revenue − Repairing Cost\n",
    "# Revenue: ₹20 per sheet produced (all cracked ones are repaired)\n",
    "# Repairing cost: based on assignment\n",
    "profit = 20 * P - (5 * x1 + 8 * x2 + 12 * y1 + 10 * y2)\n",
    "prob += profit, \"Total_Profit\"\n",
    "\n",
    "# Solve\n",
    "prob.solve()\n",
    "\n",
    "# Output Results\n",
    "print(\"\\n📦 Optimal Product Scheduling Plan:\")\n",
    "print(f\"  - Sheets to Produce: {P.varValue:.2f}\")\n",
    "\n",
    "print(\"\\n🔧 Optimal Repair Allocation:\")\n",
    "print(f\"  - Small Cracks via Process A: {x1.varValue:.2f}\")\n",
    "print(f\"  - Small Cracks via Process B: {x2.varValue:.2f}\")\n",
    "print(f\"  - Heavy Cracks via Process A: {y1.varValue:.2f}\")\n",
    "print(f\"  - Heavy Cracks via Process B: {y2.varValue:.2f}\")\n",
    "\n",
    "print(f\"\\n💰 Maximum Profit: ₹{value(prob.objective):.2f}\")"
   ]
  },
  {
   "cell_type": "code",
   "execution_count": null,
   "id": "aa2da1f1-f5cd-4545-9b89-d5a37d1aeadd",
   "metadata": {},
   "outputs": [],
   "source": []
  }
 ],
 "metadata": {
  "kernelspec": {
   "display_name": "Python 3.10 (tf_env)",
   "language": "python",
   "name": "tf_env"
  },
  "language_info": {
   "codemirror_mode": {
    "name": "ipython",
    "version": 3
   },
   "file_extension": ".py",
   "mimetype": "text/x-python",
   "name": "python",
   "nbconvert_exporter": "python",
   "pygments_lexer": "ipython3",
   "version": "3.10.9"
  }
 },
 "nbformat": 4,
 "nbformat_minor": 5
}
