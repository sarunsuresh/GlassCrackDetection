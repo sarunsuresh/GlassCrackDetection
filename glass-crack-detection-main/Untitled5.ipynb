{
 "cells": [
  {
   "cell_type": "code",
   "execution_count": 1,
   "id": "2afb70f8-06a9-41bc-9f95-54d504ef6ef7",
   "metadata": {},
   "outputs": [],
   "source": [
    "import os\n",
    "import xml.etree.ElementTree as ET\n",
    "from pathlib import Path\n",
    "from collections import defaultdict\n",
    "import matplotlib.pyplot as plt\n",
    "from PIL import Image\n",
    "import numpy as np\n",
    "import tensorflow as tf\n",
    "from sklearn.model_selection import train_test_split\n",
    "from tensorflow.keras.utils import to_categorical\n",
    "from tensorflow.keras.preprocessing.image import ImageDataGenerator\n",
    "from tensorflow.keras.models import Sequential\n",
    "from tensorflow.keras.layers import Conv2D, MaxPooling2D, Flatten, Dense, Dropout\n",
    "from tensorflow.keras.callbacks import EarlyStopping, ModelCheckpoint\n",
    "\n",
    "# Class map for translation\n",
    "CLASS_MAP = {\n",
    "    \"huahen\": \"scratch\",\n",
    "    \"liewen\": \"crack\",\n",
    "    \"baidian\": \"spot\",\n",
    "    \"louguang\": \"light-leakage\",\n",
    "    \"bengque\": \"broken\",\n",
    "    \"wuzi\": \"blot\",\n",
    "    \"pomo\": \"broken-membrane\",\n",
    "    \"ok\": \"no-defect\"\n",
    "}\n",
    "\n",
    "# Crack severity classification\n",
    "CRACK_SEVERITY_MAP = {\n",
    "    \"no-defect\": \"no_crack\",\n",
    "    \"spot\": \"small_crack\",\n",
    "    \"scratch\": \"small_crack\",\n",
    "    \"blot\": \"small_crack\",\n",
    "    \"light-leakage\": \"small_crack\",\n",
    "    \"crack\": \"heavy_crack\",\n",
    "    \"broken\": \"heavy_crack\",\n",
    "    \"broken-membrane\": \"heavy_crack\"\n",
    "}\n",
    "\n",
    "# Dataset Paths\n",
    "DATASET_DIR = r\"C:\\\\Users\\\\anant\\\\Downloads\\\\SSGD\\\\SSGD\"\n",
    "IMAGE_DIRS = ['lb101', 'lb201']"
   ]
  },
  {
   "cell_type": "code",
   "execution_count": 2,
   "id": "2338c695-a645-4e0a-8059-a1fe1f0c0a57",
   "metadata": {},
   "outputs": [],
   "source": [
    "# Cell 2: Parse XML and Load Image Paths with Labels\n",
    "image_data = []  # Holds all parsed info\n",
    "class_counter = defaultdict(int)\n",
    "severity_counter = defaultdict(int)\n",
    "\n",
    "for folder in IMAGE_DIRS:\n",
    "    img_dir = Path(DATASET_DIR) / folder\n",
    "    for file in os.listdir(img_dir):\n",
    "        if file.endswith(\".xml\"):\n",
    "            xml_path = img_dir / file\n",
    "            try:\n",
    "                tree = ET.parse(xml_path)\n",
    "                root = tree.getroot()\n",
    "                img_filename = root.find(\"filename\").text\n",
    "                img_path = img_dir / img_filename\n",
    "\n",
    "                labels_in_image = set()\n",
    "                for obj in root.findall(\"object\"):\n",
    "                    label_pinyin = obj.find(\"name\").text.strip().lower()\n",
    "                    label_english = CLASS_MAP.get(label_pinyin, \"unknown\")\n",
    "                    severity = CRACK_SEVERITY_MAP.get(label_english, \"unknown\")\n",
    "\n",
    "                    class_counter[label_english] += 1\n",
    "                    severity_counter[severity] += 1\n",
    "                    labels_in_image.add(severity)\n",
    "\n",
    "                image_data.append({\n",
    "                    \"image_path\": str(img_path),\n",
    "                    \"labels\": list(labels_in_image)\n",
    "                })\n",
    "            except Exception as e:\n",
    "                print(f\"Error parsing {xml_path}: {e}\")"
   ]
  },
  {
   "cell_type": "code",
   "execution_count": 4,
   "id": "6c4d43a7-cb67-4960-a5dd-58fedb11715f",
   "metadata": {},
   "outputs": [],
   "source": [
    "IMG_SIZE = (128, 128)\n",
    "X, y = [], []\n",
    "\n",
    "SEVERITY_CLASS_MAP = {\n",
    "    \"no_crack\": 0,\n",
    "    \"small_crack\": 1,\n",
    "    \"heavy_crack\": 2\n",
    "}\n",
    "\n",
    "for item in image_data:\n",
    "    try:\n",
    "        img = Image.open(item[\"image_path\"]).convert(\"RGB\")\n",
    "        img = img.resize(IMG_SIZE)\n",
    "        img_array = np.array(img) / 255.0\n",
    "        label = SEVERITY_CLASS_MAP[item['labels'][0]]\n",
    "        X.append(img_array)\n",
    "        y.append(label)\n",
    "    except Exception as e:\n",
    "        print(f\"Error loading image {item['image_path']}: {e}\")\n",
    "\n",
    "X = np.array(X)\n",
    "y = to_categorical(y, num_classes=3)"
   ]
  },
  {
   "cell_type": "code",
   "execution_count": 5,
   "id": "de160c48-fc84-4cf3-8672-bee9829a13d1",
   "metadata": {},
   "outputs": [],
   "source": [
    "X_train, X_test, y_train, y_test = train_test_split(X, y, test_size=0.3, random_state=42)"
   ]
  },
  {
   "cell_type": "code",
   "execution_count": 6,
   "id": "a3e9e753-46ee-4ba5-a132-4eb85a21911c",
   "metadata": {},
   "outputs": [],
   "source": [
    "datagen = ImageDataGenerator(\n",
    "    rotation_range=30,\n",
    "    width_shift_range=0.2,\n",
    "    height_shift_range=0.2,\n",
    "    zoom_range=0.2,\n",
    "    shear_range=0.2,\n",
    "    horizontal_flip=True,\n",
    "    fill_mode='nearest'\n",
    ")"
   ]
  },
  {
   "cell_type": "code",
   "execution_count": 21,
   "id": "2270d018-0b2e-4624-8fba-055c1e0dd069",
   "metadata": {},
   "outputs": [],
   "source": [
    "from tensorflow.keras.applications import MobileNetV2\n",
    "from tensorflow.keras.models import Model\n",
    "from tensorflow.keras.layers import GlobalAveragePooling2D, Dense, Dropout, BatchNormalization, Activation\n",
    "from tensorflow.keras.callbacks import EarlyStopping, ModelCheckpoint, ReduceLROnPlateau\n",
    "import tensorflow as tf\n",
    "\n",
    "# Load base model\n",
    "base_model = MobileNetV2(weights='imagenet', include_top=False, input_shape=(128, 128, 3))\n",
    "base_model.trainable = True  # Unfreeze entire base first\n",
    "\n",
    "# Freeze the first 100 layers\n",
    "for layer in base_model.layers[:100]:\n",
    "    layer.trainable = False\n",
    "\n",
    "# Add custom top layers\n",
    "x = base_model.output\n",
    "x = GlobalAveragePooling2D()(x)\n",
    "x = Dense(256)(x)\n",
    "x = BatchNormalization()(x)\n",
    "x = Activation(tf.nn.swish)(x)\n",
    "x = Dropout(0.5)(x)\n",
    "x = Dense(128)(x)\n",
    "x = BatchNormalization()(x)\n",
    "x = Activation(tf.nn.swish)(x)\n",
    "x = Dropout(0.3)(x)\n",
    "output = Dense(3, activation='softmax')(x)\n",
    "\n",
    "# Final model\n",
    "model = Model(inputs=base_model.input, outputs=output)\n",
    "\n",
    "# Compile\n",
    "model.compile(optimizer=tf.keras.optimizers.Adam(learning_rate=1e-4),  # Lower LR for fine-tuning\n",
    "              loss='categorical_crossentropy',\n",
    "              metrics=['accuracy'])\n",
    "\n",
    "# Callbacks\n",
    "callbacks = [\n",
    "    EarlyStopping(monitor='val_accuracy', patience=20, restore_best_weights=True),\n",
    "    ReduceLROnPlateau(monitor='val_accuracy', factor=0.3, patience=10, verbose=1),\n",
    "    ModelCheckpoint(\"best_mobilenetv2_model_updated.h5\", save_best_only=True, monitor='val_accuracy', verbose=1)\n",
    "]"
   ]
  },
  {
   "cell_type": "code",
   "execution_count": 22,
   "id": "8905a39c-f3ba-4ef0-a710-22e3b37081b7",
   "metadata": {
    "scrolled": true
   },
   "outputs": [
    {
     "name": "stdout",
     "output_type": "stream",
     "text": [
      "Epoch 1/100\n",
      "\u001b[1m55/55\u001b[0m \u001b[32m━━━━━━━━━━━━━━━━━━━━\u001b[0m\u001b[37m\u001b[0m \u001b[1m0s\u001b[0m 494ms/step - accuracy: 0.4147 - loss: 1.2053\n",
      "Epoch 1: val_accuracy improved from -inf to 0.49867, saving model to best_mobilenetv2_model_updated.h5\n"
     ]
    },
    {
     "name": "stderr",
     "output_type": "stream",
     "text": [
      "WARNING:absl:You are saving your model as an HDF5 file via `model.save()` or `keras.saving.save_model(model)`. This file format is considered legacy. We recommend using instead the native Keras format, e.g. `model.save('my_model.keras')` or `keras.saving.save_model(model, 'my_model.keras')`. \n"
     ]
    },
    {
     "name": "stdout",
     "output_type": "stream",
     "text": [
      "\u001b[1m55/55\u001b[0m \u001b[32m━━━━━━━━━━━━━━━━━━━━\u001b[0m\u001b[37m\u001b[0m \u001b[1m59s\u001b[0m 665ms/step - accuracy: 0.4154 - loss: 1.2043 - val_accuracy: 0.4987 - val_loss: 1.0583 - learning_rate: 1.0000e-04\n",
      "Epoch 2/100\n",
      "\u001b[1m55/55\u001b[0m \u001b[32m━━━━━━━━━━━━━━━━━━━━\u001b[0m\u001b[37m\u001b[0m \u001b[1m0s\u001b[0m 486ms/step - accuracy: 0.5530 - loss: 0.9446\n",
      "Epoch 2: val_accuracy did not improve from 0.49867\n",
      "\u001b[1m55/55\u001b[0m \u001b[32m━━━━━━━━━━━━━━━━━━━━\u001b[0m\u001b[37m\u001b[0m \u001b[1m32s\u001b[0m 578ms/step - accuracy: 0.5531 - loss: 0.9448 - val_accuracy: 0.4734 - val_loss: 1.0595 - learning_rate: 1.0000e-04\n",
      "Epoch 3/100\n",
      "\u001b[1m55/55\u001b[0m \u001b[32m━━━━━━━━━━━━━━━━━━━━\u001b[0m\u001b[37m\u001b[0m \u001b[1m0s\u001b[0m 484ms/step - accuracy: 0.5817 - loss: 0.9265\n",
      "Epoch 3: val_accuracy improved from 0.49867 to 0.51064, saving model to best_mobilenetv2_model_updated.h5\n"
     ]
    },
    {
     "name": "stderr",
     "output_type": "stream",
     "text": [
      "WARNING:absl:You are saving your model as an HDF5 file via `model.save()` or `keras.saving.save_model(model)`. This file format is considered legacy. We recommend using instead the native Keras format, e.g. `model.save('my_model.keras')` or `keras.saving.save_model(model, 'my_model.keras')`. \n"
     ]
    },
    {
     "name": "stdout",
     "output_type": "stream",
     "text": [
      "\u001b[1m55/55\u001b[0m \u001b[32m━━━━━━━━━━━━━━━━━━━━\u001b[0m\u001b[37m\u001b[0m \u001b[1m32s\u001b[0m 586ms/step - accuracy: 0.5819 - loss: 0.9260 - val_accuracy: 0.5106 - val_loss: 1.0704 - learning_rate: 1.0000e-04\n",
      "Epoch 4/100\n",
      "\u001b[1m55/55\u001b[0m \u001b[32m━━━━━━━━━━━━━━━━━━━━\u001b[0m\u001b[37m\u001b[0m \u001b[1m0s\u001b[0m 489ms/step - accuracy: 0.6080 - loss: 0.8652\n",
      "Epoch 4: val_accuracy did not improve from 0.51064\n",
      "\u001b[1m55/55\u001b[0m \u001b[32m━━━━━━━━━━━━━━━━━━━━\u001b[0m\u001b[37m\u001b[0m \u001b[1m41s\u001b[0m 578ms/step - accuracy: 0.6083 - loss: 0.8649 - val_accuracy: 0.4348 - val_loss: 1.1569 - learning_rate: 1.0000e-04\n",
      "Epoch 5/100\n",
      "\u001b[1m55/55\u001b[0m \u001b[32m━━━━━━━━━━━━━━━━━━━━\u001b[0m\u001b[37m\u001b[0m \u001b[1m0s\u001b[0m 483ms/step - accuracy: 0.6502 - loss: 0.7889\n",
      "Epoch 5: val_accuracy did not improve from 0.51064\n",
      "\u001b[1m55/55\u001b[0m \u001b[32m━━━━━━━━━━━━━━━━━━━━\u001b[0m\u001b[37m\u001b[0m \u001b[1m32s\u001b[0m 573ms/step - accuracy: 0.6502 - loss: 0.7891 - val_accuracy: 0.4707 - val_loss: 1.1134 - learning_rate: 1.0000e-04\n",
      "Epoch 6/100\n",
      "\u001b[1m55/55\u001b[0m \u001b[32m━━━━━━━━━━━━━━━━━━━━\u001b[0m\u001b[37m\u001b[0m \u001b[1m0s\u001b[0m 492ms/step - accuracy: 0.6804 - loss: 0.7550\n",
      "Epoch 6: val_accuracy did not improve from 0.51064\n",
      "\u001b[1m55/55\u001b[0m \u001b[32m━━━━━━━━━━━━━━━━━━━━\u001b[0m\u001b[37m\u001b[0m \u001b[1m33s\u001b[0m 590ms/step - accuracy: 0.6802 - loss: 0.7554 - val_accuracy: 0.4189 - val_loss: 1.2065 - learning_rate: 1.0000e-04\n",
      "Epoch 7/100\n",
      "\u001b[1m55/55\u001b[0m \u001b[32m━━━━━━━━━━━━━━━━━━━━\u001b[0m\u001b[37m\u001b[0m \u001b[1m0s\u001b[0m 497ms/step - accuracy: 0.6790 - loss: 0.7683\n",
      "Epoch 7: val_accuracy did not improve from 0.51064\n",
      "\u001b[1m55/55\u001b[0m \u001b[32m━━━━━━━━━━━━━━━━━━━━\u001b[0m\u001b[37m\u001b[0m \u001b[1m33s\u001b[0m 594ms/step - accuracy: 0.6789 - loss: 0.7679 - val_accuracy: 0.3910 - val_loss: 1.3825 - learning_rate: 1.0000e-04\n",
      "Epoch 8/100\n",
      "\u001b[1m55/55\u001b[0m \u001b[32m━━━━━━━━━━━━━━━━━━━━\u001b[0m\u001b[37m\u001b[0m \u001b[1m0s\u001b[0m 500ms/step - accuracy: 0.6796 - loss: 0.7251\n",
      "Epoch 8: val_accuracy did not improve from 0.51064\n",
      "\u001b[1m55/55\u001b[0m \u001b[32m━━━━━━━━━━━━━━━━━━━━\u001b[0m\u001b[37m\u001b[0m \u001b[1m33s\u001b[0m 597ms/step - accuracy: 0.6797 - loss: 0.7251 - val_accuracy: 0.4003 - val_loss: 1.3082 - learning_rate: 1.0000e-04\n",
      "Epoch 9/100\n",
      "\u001b[1m55/55\u001b[0m \u001b[32m━━━━━━━━━━━━━━━━━━━━\u001b[0m\u001b[37m\u001b[0m \u001b[1m0s\u001b[0m 497ms/step - accuracy: 0.6928 - loss: 0.7267\n",
      "Epoch 9: val_accuracy did not improve from 0.51064\n",
      "\u001b[1m55/55\u001b[0m \u001b[32m━━━━━━━━━━━━━━━━━━━━\u001b[0m\u001b[37m\u001b[0m \u001b[1m33s\u001b[0m 595ms/step - accuracy: 0.6929 - loss: 0.7266 - val_accuracy: 0.3976 - val_loss: 1.3426 - learning_rate: 1.0000e-04\n",
      "Epoch 10/100\n",
      "\u001b[1m55/55\u001b[0m \u001b[32m━━━━━━━━━━━━━━━━━━━━\u001b[0m\u001b[37m\u001b[0m \u001b[1m0s\u001b[0m 494ms/step - accuracy: 0.6882 - loss: 0.7034\n",
      "Epoch 10: val_accuracy did not improve from 0.51064\n",
      "\u001b[1m55/55\u001b[0m \u001b[32m━━━━━━━━━━━━━━━━━━━━\u001b[0m\u001b[37m\u001b[0m \u001b[1m33s\u001b[0m 591ms/step - accuracy: 0.6881 - loss: 0.7034 - val_accuracy: 0.4495 - val_loss: 1.1469 - learning_rate: 1.0000e-04\n",
      "Epoch 11/100\n",
      "\u001b[1m55/55\u001b[0m \u001b[32m━━━━━━━━━━━━━━━━━━━━\u001b[0m\u001b[37m\u001b[0m \u001b[1m0s\u001b[0m 492ms/step - accuracy: 0.7129 - loss: 0.6540\n",
      "Epoch 11: val_accuracy did not improve from 0.51064\n",
      "\u001b[1m55/55\u001b[0m \u001b[32m━━━━━━━━━━━━━━━━━━━━\u001b[0m\u001b[37m\u001b[0m \u001b[1m32s\u001b[0m 589ms/step - accuracy: 0.7129 - loss: 0.6542 - val_accuracy: 0.4827 - val_loss: 1.0917 - learning_rate: 1.0000e-04\n",
      "Epoch 12/100\n",
      "\u001b[1m55/55\u001b[0m \u001b[32m━━━━━━━━━━━━━━━━━━━━\u001b[0m\u001b[37m\u001b[0m \u001b[1m0s\u001b[0m 498ms/step - accuracy: 0.7140 - loss: 0.6715\n",
      "Epoch 12: val_accuracy did not improve from 0.51064\n",
      "\u001b[1m55/55\u001b[0m \u001b[32m━━━━━━━━━━━━━━━━━━━━\u001b[0m\u001b[37m\u001b[0m \u001b[1m33s\u001b[0m 593ms/step - accuracy: 0.7140 - loss: 0.6719 - val_accuracy: 0.4867 - val_loss: 1.1615 - learning_rate: 1.0000e-04\n",
      "Epoch 13/100\n",
      "\u001b[1m55/55\u001b[0m \u001b[32m━━━━━━━━━━━━━━━━━━━━\u001b[0m\u001b[37m\u001b[0m \u001b[1m0s\u001b[0m 496ms/step - accuracy: 0.7260 - loss: 0.6341\n",
      "Epoch 13: ReduceLROnPlateau reducing learning rate to 2.9999999242136255e-05.\n",
      "\n",
      "Epoch 13: val_accuracy did not improve from 0.51064\n",
      "\u001b[1m55/55\u001b[0m \u001b[32m━━━━━━━━━━━━━━━━━━━━\u001b[0m\u001b[37m\u001b[0m \u001b[1m33s\u001b[0m 592ms/step - accuracy: 0.7260 - loss: 0.6342 - val_accuracy: 0.4774 - val_loss: 1.2718 - learning_rate: 1.0000e-04\n",
      "Epoch 14/100\n",
      "\u001b[1m55/55\u001b[0m \u001b[32m━━━━━━━━━━━━━━━━━━━━\u001b[0m\u001b[37m\u001b[0m \u001b[1m0s\u001b[0m 500ms/step - accuracy: 0.7392 - loss: 0.5980\n",
      "Epoch 14: val_accuracy did not improve from 0.51064\n",
      "\u001b[1m55/55\u001b[0m \u001b[32m━━━━━━━━━━━━━━━━━━━━\u001b[0m\u001b[37m\u001b[0m \u001b[1m41s\u001b[0m 598ms/step - accuracy: 0.7393 - loss: 0.5983 - val_accuracy: 0.4960 - val_loss: 1.2493 - learning_rate: 3.0000e-05\n",
      "Epoch 15/100\n",
      "\u001b[1m55/55\u001b[0m \u001b[32m━━━━━━━━━━━━━━━━━━━━\u001b[0m\u001b[37m\u001b[0m \u001b[1m0s\u001b[0m 490ms/step - accuracy: 0.7522 - loss: 0.5966\n",
      "Epoch 15: val_accuracy improved from 0.51064 to 0.51995, saving model to best_mobilenetv2_model_updated.h5\n"
     ]
    },
    {
     "name": "stderr",
     "output_type": "stream",
     "text": [
      "WARNING:absl:You are saving your model as an HDF5 file via `model.save()` or `keras.saving.save_model(model)`. This file format is considered legacy. We recommend using instead the native Keras format, e.g. `model.save('my_model.keras')` or `keras.saving.save_model(model, 'my_model.keras')`. \n"
     ]
    },
    {
     "name": "stdout",
     "output_type": "stream",
     "text": [
      "\u001b[1m55/55\u001b[0m \u001b[32m━━━━━━━━━━━━━━━━━━━━\u001b[0m\u001b[37m\u001b[0m \u001b[1m33s\u001b[0m 599ms/step - accuracy: 0.7520 - loss: 0.5969 - val_accuracy: 0.5199 - val_loss: 1.2058 - learning_rate: 3.0000e-05\n",
      "Epoch 16/100\n",
      "\u001b[1m55/55\u001b[0m \u001b[32m━━━━━━━━━━━━━━━━━━━━\u001b[0m\u001b[37m\u001b[0m \u001b[1m0s\u001b[0m 496ms/step - accuracy: 0.7372 - loss: 0.6172\n",
      "Epoch 16: val_accuracy did not improve from 0.51995\n",
      "\u001b[1m55/55\u001b[0m \u001b[32m━━━━━━━━━━━━━━━━━━━━\u001b[0m\u001b[37m\u001b[0m \u001b[1m33s\u001b[0m 593ms/step - accuracy: 0.7373 - loss: 0.6173 - val_accuracy: 0.5013 - val_loss: 1.2989 - learning_rate: 3.0000e-05\n",
      "Epoch 17/100\n",
      "\u001b[1m55/55\u001b[0m \u001b[32m━━━━━━━━━━━━━━━━━━━━\u001b[0m\u001b[37m\u001b[0m \u001b[1m0s\u001b[0m 492ms/step - accuracy: 0.7582 - loss: 0.5758\n",
      "Epoch 17: val_accuracy improved from 0.51995 to 0.53324, saving model to best_mobilenetv2_model_updated.h5\n"
     ]
    },
    {
     "name": "stderr",
     "output_type": "stream",
     "text": [
      "WARNING:absl:You are saving your model as an HDF5 file via `model.save()` or `keras.saving.save_model(model)`. This file format is considered legacy. We recommend using instead the native Keras format, e.g. `model.save('my_model.keras')` or `keras.saving.save_model(model, 'my_model.keras')`. \n"
     ]
    },
    {
     "name": "stdout",
     "output_type": "stream",
     "text": [
      "\u001b[1m55/55\u001b[0m \u001b[32m━━━━━━━━━━━━━━━━━━━━\u001b[0m\u001b[37m\u001b[0m \u001b[1m33s\u001b[0m 602ms/step - accuracy: 0.7585 - loss: 0.5757 - val_accuracy: 0.5332 - val_loss: 1.2510 - learning_rate: 3.0000e-05\n",
      "Epoch 18/100\n",
      "\u001b[1m55/55\u001b[0m \u001b[32m━━━━━━━━━━━━━━━━━━━━\u001b[0m\u001b[37m\u001b[0m \u001b[1m0s\u001b[0m 497ms/step - accuracy: 0.7568 - loss: 0.6023\n",
      "Epoch 18: val_accuracy improved from 0.53324 to 0.55186, saving model to best_mobilenetv2_model_updated.h5\n"
     ]
    },
    {
     "name": "stderr",
     "output_type": "stream",
     "text": [
      "WARNING:absl:You are saving your model as an HDF5 file via `model.save()` or `keras.saving.save_model(model)`. This file format is considered legacy. We recommend using instead the native Keras format, e.g. `model.save('my_model.keras')` or `keras.saving.save_model(model, 'my_model.keras')`. \n"
     ]
    },
    {
     "name": "stdout",
     "output_type": "stream",
     "text": [
      "\u001b[1m55/55\u001b[0m \u001b[32m━━━━━━━━━━━━━━━━━━━━\u001b[0m\u001b[37m\u001b[0m \u001b[1m41s\u001b[0m 597ms/step - accuracy: 0.7567 - loss: 0.6021 - val_accuracy: 0.5519 - val_loss: 1.1828 - learning_rate: 3.0000e-05\n",
      "Epoch 19/100\n",
      "\u001b[1m55/55\u001b[0m \u001b[32m━━━━━━━━━━━━━━━━━━━━\u001b[0m\u001b[37m\u001b[0m \u001b[1m0s\u001b[0m 496ms/step - accuracy: 0.7498 - loss: 0.5759\n",
      "Epoch 19: val_accuracy improved from 0.55186 to 0.57979, saving model to best_mobilenetv2_model_updated.h5\n"
     ]
    },
    {
     "name": "stderr",
     "output_type": "stream",
     "text": [
      "WARNING:absl:You are saving your model as an HDF5 file via `model.save()` or `keras.saving.save_model(model)`. This file format is considered legacy. We recommend using instead the native Keras format, e.g. `model.save('my_model.keras')` or `keras.saving.save_model(model, 'my_model.keras')`. \n"
     ]
    },
    {
     "name": "stdout",
     "output_type": "stream",
     "text": [
      "\u001b[1m55/55\u001b[0m \u001b[32m━━━━━━━━━━━━━━━━━━━━\u001b[0m\u001b[37m\u001b[0m \u001b[1m41s\u001b[0m 594ms/step - accuracy: 0.7499 - loss: 0.5760 - val_accuracy: 0.5798 - val_loss: 1.1010 - learning_rate: 3.0000e-05\n",
      "Epoch 20/100\n",
      "\u001b[1m55/55\u001b[0m \u001b[32m━━━━━━━━━━━━━━━━━━━━\u001b[0m\u001b[37m\u001b[0m \u001b[1m0s\u001b[0m 455ms/step - accuracy: 0.7601 - loss: 0.5634\n",
      "Epoch 20: val_accuracy improved from 0.57979 to 0.58245, saving model to best_mobilenetv2_model_updated.h5\n"
     ]
    },
    {
     "name": "stderr",
     "output_type": "stream",
     "text": [
      "WARNING:absl:You are saving your model as an HDF5 file via `model.save()` or `keras.saving.save_model(model)`. This file format is considered legacy. We recommend using instead the native Keras format, e.g. `model.save('my_model.keras')` or `keras.saving.save_model(model, 'my_model.keras')`. \n"
     ]
    },
    {
     "name": "stdout",
     "output_type": "stream",
     "text": [
      "\u001b[1m55/55\u001b[0m \u001b[32m━━━━━━━━━━━━━━━━━━━━\u001b[0m\u001b[37m\u001b[0m \u001b[1m39s\u001b[0m 550ms/step - accuracy: 0.7603 - loss: 0.5633 - val_accuracy: 0.5824 - val_loss: 1.1208 - learning_rate: 3.0000e-05\n",
      "Epoch 21/100\n",
      "\u001b[1m55/55\u001b[0m \u001b[32m━━━━━━━━━━━━━━━━━━━━\u001b[0m\u001b[37m\u001b[0m \u001b[1m0s\u001b[0m 468ms/step - accuracy: 0.7430 - loss: 0.6238\n",
      "Epoch 21: val_accuracy did not improve from 0.58245\n",
      "\u001b[1m55/55\u001b[0m \u001b[32m━━━━━━━━━━━━━━━━━━━━\u001b[0m\u001b[37m\u001b[0m \u001b[1m42s\u001b[0m 559ms/step - accuracy: 0.7432 - loss: 0.6234 - val_accuracy: 0.5731 - val_loss: 1.1948 - learning_rate: 3.0000e-05\n",
      "Epoch 22/100\n",
      "\u001b[1m55/55\u001b[0m \u001b[32m━━━━━━━━━━━━━━━━━━━━\u001b[0m\u001b[37m\u001b[0m \u001b[1m0s\u001b[0m 463ms/step - accuracy: 0.7503 - loss: 0.6053\n",
      "Epoch 22: val_accuracy improved from 0.58245 to 0.60239, saving model to best_mobilenetv2_model_updated.h5\n"
     ]
    },
    {
     "name": "stderr",
     "output_type": "stream",
     "text": [
      "WARNING:absl:You are saving your model as an HDF5 file via `model.save()` or `keras.saving.save_model(model)`. This file format is considered legacy. We recommend using instead the native Keras format, e.g. `model.save('my_model.keras')` or `keras.saving.save_model(model, 'my_model.keras')`. \n"
     ]
    },
    {
     "name": "stdout",
     "output_type": "stream",
     "text": [
      "\u001b[1m55/55\u001b[0m \u001b[32m━━━━━━━━━━━━━━━━━━━━\u001b[0m\u001b[37m\u001b[0m \u001b[1m31s\u001b[0m 565ms/step - accuracy: 0.7503 - loss: 0.6051 - val_accuracy: 0.6024 - val_loss: 1.0861 - learning_rate: 3.0000e-05\n",
      "Epoch 23/100\n",
      "\u001b[1m55/55\u001b[0m \u001b[32m━━━━━━━━━━━━━━━━━━━━\u001b[0m\u001b[37m\u001b[0m \u001b[1m0s\u001b[0m 466ms/step - accuracy: 0.7531 - loss: 0.5844\n",
      "Epoch 23: val_accuracy improved from 0.60239 to 0.62766, saving model to best_mobilenetv2_model_updated.h5\n"
     ]
    },
    {
     "name": "stderr",
     "output_type": "stream",
     "text": [
      "WARNING:absl:You are saving your model as an HDF5 file via `model.save()` or `keras.saving.save_model(model)`. This file format is considered legacy. We recommend using instead the native Keras format, e.g. `model.save('my_model.keras')` or `keras.saving.save_model(model, 'my_model.keras')`. \n"
     ]
    },
    {
     "name": "stdout",
     "output_type": "stream",
     "text": [
      "\u001b[1m55/55\u001b[0m \u001b[32m━━━━━━━━━━━━━━━━━━━━\u001b[0m\u001b[37m\u001b[0m \u001b[1m31s\u001b[0m 569ms/step - accuracy: 0.7533 - loss: 0.5840 - val_accuracy: 0.6277 - val_loss: 1.0028 - learning_rate: 3.0000e-05\n",
      "Epoch 24/100\n",
      "\u001b[1m55/55\u001b[0m \u001b[32m━━━━━━━━━━━━━━━━━━━━\u001b[0m\u001b[37m\u001b[0m \u001b[1m0s\u001b[0m 474ms/step - accuracy: 0.7749 - loss: 0.5505\n",
      "Epoch 24: val_accuracy did not improve from 0.62766\n",
      "\u001b[1m55/55\u001b[0m \u001b[32m━━━━━━━━━━━━━━━━━━━━\u001b[0m\u001b[37m\u001b[0m \u001b[1m31s\u001b[0m 571ms/step - accuracy: 0.7749 - loss: 0.5505 - val_accuracy: 0.6223 - val_loss: 1.0271 - learning_rate: 3.0000e-05\n",
      "Epoch 25/100\n",
      "\u001b[1m55/55\u001b[0m \u001b[32m━━━━━━━━━━━━━━━━━━━━\u001b[0m\u001b[37m\u001b[0m \u001b[1m0s\u001b[0m 477ms/step - accuracy: 0.7897 - loss: 0.5355\n",
      "Epoch 25: val_accuracy improved from 0.62766 to 0.65293, saving model to best_mobilenetv2_model_updated.h5\n"
     ]
    },
    {
     "name": "stderr",
     "output_type": "stream",
     "text": [
      "WARNING:absl:You are saving your model as an HDF5 file via `model.save()` or `keras.saving.save_model(model)`. This file format is considered legacy. We recommend using instead the native Keras format, e.g. `model.save('my_model.keras')` or `keras.saving.save_model(model, 'my_model.keras')`. \n"
     ]
    },
    {
     "name": "stdout",
     "output_type": "stream",
     "text": [
      "\u001b[1m55/55\u001b[0m \u001b[32m━━━━━━━━━━━━━━━━━━━━\u001b[0m\u001b[37m\u001b[0m \u001b[1m32s\u001b[0m 578ms/step - accuracy: 0.7897 - loss: 0.5356 - val_accuracy: 0.6529 - val_loss: 0.9567 - learning_rate: 3.0000e-05\n",
      "Epoch 26/100\n",
      "\u001b[1m55/55\u001b[0m \u001b[32m━━━━━━━━━━━━━━━━━━━━\u001b[0m\u001b[37m\u001b[0m \u001b[1m0s\u001b[0m 475ms/step - accuracy: 0.7660 - loss: 0.5576\n",
      "Epoch 26: val_accuracy improved from 0.65293 to 0.69016, saving model to best_mobilenetv2_model_updated.h5\n"
     ]
    },
    {
     "name": "stderr",
     "output_type": "stream",
     "text": [
      "WARNING:absl:You are saving your model as an HDF5 file via `model.save()` or `keras.saving.save_model(model)`. This file format is considered legacy. We recommend using instead the native Keras format, e.g. `model.save('my_model.keras')` or `keras.saving.save_model(model, 'my_model.keras')`. \n"
     ]
    },
    {
     "name": "stdout",
     "output_type": "stream",
     "text": [
      "\u001b[1m55/55\u001b[0m \u001b[32m━━━━━━━━━━━━━━━━━━━━\u001b[0m\u001b[37m\u001b[0m \u001b[1m32s\u001b[0m 574ms/step - accuracy: 0.7662 - loss: 0.5575 - val_accuracy: 0.6902 - val_loss: 0.8537 - learning_rate: 3.0000e-05\n",
      "Epoch 27/100\n",
      "\u001b[1m55/55\u001b[0m \u001b[32m━━━━━━━━━━━━━━━━━━━━\u001b[0m\u001b[37m\u001b[0m \u001b[1m0s\u001b[0m 461ms/step - accuracy: 0.7809 - loss: 0.5299\n",
      "Epoch 27: val_accuracy did not improve from 0.69016\n",
      "\u001b[1m55/55\u001b[0m \u001b[32m━━━━━━━━━━━━━━━━━━━━\u001b[0m\u001b[37m\u001b[0m \u001b[1m40s\u001b[0m 554ms/step - accuracy: 0.7809 - loss: 0.5300 - val_accuracy: 0.6888 - val_loss: 0.9084 - learning_rate: 3.0000e-05\n",
      "Epoch 28/100\n",
      "\u001b[1m55/55\u001b[0m \u001b[32m━━━━━━━━━━━━━━━━━━━━\u001b[0m\u001b[37m\u001b[0m \u001b[1m0s\u001b[0m 465ms/step - accuracy: 0.7799 - loss: 0.5442\n",
      "Epoch 28: val_accuracy did not improve from 0.69016\n",
      "\u001b[1m55/55\u001b[0m \u001b[32m━━━━━━━━━━━━━━━━━━━━\u001b[0m\u001b[37m\u001b[0m \u001b[1m31s\u001b[0m 555ms/step - accuracy: 0.7798 - loss: 0.5444 - val_accuracy: 0.6809 - val_loss: 0.9903 - learning_rate: 3.0000e-05\n",
      "Epoch 29/100\n",
      "\u001b[1m55/55\u001b[0m \u001b[32m━━━━━━━━━━━━━━━━━━━━\u001b[0m\u001b[37m\u001b[0m \u001b[1m0s\u001b[0m 474ms/step - accuracy: 0.7701 - loss: 0.5513\n",
      "Epoch 29: val_accuracy did not improve from 0.69016\n",
      "\u001b[1m55/55\u001b[0m \u001b[32m━━━━━━━━━━━━━━━━━━━━\u001b[0m\u001b[37m\u001b[0m \u001b[1m31s\u001b[0m 561ms/step - accuracy: 0.7699 - loss: 0.5513 - val_accuracy: 0.6822 - val_loss: 0.9919 - learning_rate: 3.0000e-05\n",
      "Epoch 30/100\n",
      "\u001b[1m55/55\u001b[0m \u001b[32m━━━━━━━━━━━━━━━━━━━━\u001b[0m\u001b[37m\u001b[0m \u001b[1m0s\u001b[0m 468ms/step - accuracy: 0.7745 - loss: 0.5532\n",
      "Epoch 30: val_accuracy did not improve from 0.69016\n",
      "\u001b[1m55/55\u001b[0m \u001b[32m━━━━━━━━━━━━━━━━━━━━\u001b[0m\u001b[37m\u001b[0m \u001b[1m31s\u001b[0m 553ms/step - accuracy: 0.7747 - loss: 0.5530 - val_accuracy: 0.6902 - val_loss: 0.9177 - learning_rate: 3.0000e-05\n",
      "Epoch 31/100\n",
      "\u001b[1m55/55\u001b[0m \u001b[32m━━━━━━━━━━━━━━━━━━━━\u001b[0m\u001b[37m\u001b[0m \u001b[1m0s\u001b[0m 471ms/step - accuracy: 0.7698 - loss: 0.5613\n",
      "Epoch 31: val_accuracy improved from 0.69016 to 0.69681, saving model to best_mobilenetv2_model_updated.h5\n"
     ]
    },
    {
     "name": "stderr",
     "output_type": "stream",
     "text": [
      "WARNING:absl:You are saving your model as an HDF5 file via `model.save()` or `keras.saving.save_model(model)`. This file format is considered legacy. We recommend using instead the native Keras format, e.g. `model.save('my_model.keras')` or `keras.saving.save_model(model, 'my_model.keras')`. \n"
     ]
    },
    {
     "name": "stdout",
     "output_type": "stream",
     "text": [
      "\u001b[1m55/55\u001b[0m \u001b[32m━━━━━━━━━━━━━━━━━━━━\u001b[0m\u001b[37m\u001b[0m \u001b[1m31s\u001b[0m 570ms/step - accuracy: 0.7700 - loss: 0.5609 - val_accuracy: 0.6968 - val_loss: 0.9353 - learning_rate: 3.0000e-05\n",
      "Epoch 32/100\n",
      "\u001b[1m55/55\u001b[0m \u001b[32m━━━━━━━━━━━━━━━━━━━━\u001b[0m\u001b[37m\u001b[0m \u001b[1m0s\u001b[0m 458ms/step - accuracy: 0.8042 - loss: 0.4977\n",
      "Epoch 32: val_accuracy improved from 0.69681 to 0.70346, saving model to best_mobilenetv2_model_updated.h5\n"
     ]
    },
    {
     "name": "stderr",
     "output_type": "stream",
     "text": [
      "WARNING:absl:You are saving your model as an HDF5 file via `model.save()` or `keras.saving.save_model(model)`. This file format is considered legacy. We recommend using instead the native Keras format, e.g. `model.save('my_model.keras')` or `keras.saving.save_model(model, 'my_model.keras')`. \n"
     ]
    },
    {
     "name": "stdout",
     "output_type": "stream",
     "text": [
      "\u001b[1m55/55\u001b[0m \u001b[32m━━━━━━━━━━━━━━━━━━━━\u001b[0m\u001b[37m\u001b[0m \u001b[1m40s\u001b[0m 559ms/step - accuracy: 0.8041 - loss: 0.4980 - val_accuracy: 0.7035 - val_loss: 0.9534 - learning_rate: 3.0000e-05\n",
      "Epoch 33/100\n",
      "\u001b[1m55/55\u001b[0m \u001b[32m━━━━━━━━━━━━━━━━━━━━\u001b[0m\u001b[37m\u001b[0m \u001b[1m0s\u001b[0m 477ms/step - accuracy: 0.7672 - loss: 0.5653\n",
      "Epoch 33: val_accuracy improved from 0.70346 to 0.70612, saving model to best_mobilenetv2_model_updated.h5\n"
     ]
    },
    {
     "name": "stderr",
     "output_type": "stream",
     "text": [
      "WARNING:absl:You are saving your model as an HDF5 file via `model.save()` or `keras.saving.save_model(model)`. This file format is considered legacy. We recommend using instead the native Keras format, e.g. `model.save('my_model.keras')` or `keras.saving.save_model(model, 'my_model.keras')`. \n"
     ]
    },
    {
     "name": "stdout",
     "output_type": "stream",
     "text": [
      "\u001b[1m55/55\u001b[0m \u001b[32m━━━━━━━━━━━━━━━━━━━━\u001b[0m\u001b[37m\u001b[0m \u001b[1m32s\u001b[0m 581ms/step - accuracy: 0.7672 - loss: 0.5654 - val_accuracy: 0.7061 - val_loss: 0.8822 - learning_rate: 3.0000e-05\n",
      "Epoch 34/100\n",
      "\u001b[1m55/55\u001b[0m \u001b[32m━━━━━━━━━━━━━━━━━━━━\u001b[0m\u001b[37m\u001b[0m \u001b[1m0s\u001b[0m 464ms/step - accuracy: 0.8048 - loss: 0.4921\n",
      "Epoch 34: val_accuracy improved from 0.70612 to 0.72872, saving model to best_mobilenetv2_model_updated.h5\n"
     ]
    },
    {
     "name": "stderr",
     "output_type": "stream",
     "text": [
      "WARNING:absl:You are saving your model as an HDF5 file via `model.save()` or `keras.saving.save_model(model)`. This file format is considered legacy. We recommend using instead the native Keras format, e.g. `model.save('my_model.keras')` or `keras.saving.save_model(model, 'my_model.keras')`. \n"
     ]
    },
    {
     "name": "stdout",
     "output_type": "stream",
     "text": [
      "\u001b[1m55/55\u001b[0m \u001b[32m━━━━━━━━━━━━━━━━━━━━\u001b[0m\u001b[37m\u001b[0m \u001b[1m31s\u001b[0m 567ms/step - accuracy: 0.8048 - loss: 0.4922 - val_accuracy: 0.7287 - val_loss: 0.8128 - learning_rate: 3.0000e-05\n",
      "Epoch 35/100\n",
      "\u001b[1m55/55\u001b[0m \u001b[32m━━━━━━━━━━━━━━━━━━━━\u001b[0m\u001b[37m\u001b[0m \u001b[1m0s\u001b[0m 469ms/step - accuracy: 0.7941 - loss: 0.5195\n",
      "Epoch 35: val_accuracy did not improve from 0.72872\n",
      "\u001b[1m55/55\u001b[0m \u001b[32m━━━━━━━━━━━━━━━━━━━━\u001b[0m\u001b[37m\u001b[0m \u001b[1m31s\u001b[0m 562ms/step - accuracy: 0.7940 - loss: 0.5193 - val_accuracy: 0.7274 - val_loss: 0.7947 - learning_rate: 3.0000e-05\n",
      "Epoch 36/100\n",
      "\u001b[1m55/55\u001b[0m \u001b[32m━━━━━━━━━━━━━━━━━━━━\u001b[0m\u001b[37m\u001b[0m \u001b[1m0s\u001b[0m 476ms/step - accuracy: 0.7969 - loss: 0.5008\n",
      "Epoch 36: val_accuracy improved from 0.72872 to 0.73936, saving model to best_mobilenetv2_model_updated.h5\n"
     ]
    },
    {
     "name": "stderr",
     "output_type": "stream",
     "text": [
      "WARNING:absl:You are saving your model as an HDF5 file via `model.save()` or `keras.saving.save_model(model)`. This file format is considered legacy. We recommend using instead the native Keras format, e.g. `model.save('my_model.keras')` or `keras.saving.save_model(model, 'my_model.keras')`. \n"
     ]
    },
    {
     "name": "stdout",
     "output_type": "stream",
     "text": [
      "\u001b[1m55/55\u001b[0m \u001b[32m━━━━━━━━━━━━━━━━━━━━\u001b[0m\u001b[37m\u001b[0m \u001b[1m32s\u001b[0m 584ms/step - accuracy: 0.7967 - loss: 0.5013 - val_accuracy: 0.7394 - val_loss: 0.7603 - learning_rate: 3.0000e-05\n",
      "Epoch 37/100\n",
      "\u001b[1m55/55\u001b[0m \u001b[32m━━━━━━━━━━━━━━━━━━━━\u001b[0m\u001b[37m\u001b[0m \u001b[1m0s\u001b[0m 477ms/step - accuracy: 0.8002 - loss: 0.5107\n",
      "Epoch 37: val_accuracy improved from 0.73936 to 0.75266, saving model to best_mobilenetv2_model_updated.h5\n"
     ]
    },
    {
     "name": "stderr",
     "output_type": "stream",
     "text": [
      "WARNING:absl:You are saving your model as an HDF5 file via `model.save()` or `keras.saving.save_model(model)`. This file format is considered legacy. We recommend using instead the native Keras format, e.g. `model.save('my_model.keras')` or `keras.saving.save_model(model, 'my_model.keras')`. \n"
     ]
    },
    {
     "name": "stdout",
     "output_type": "stream",
     "text": [
      "\u001b[1m55/55\u001b[0m \u001b[32m━━━━━━━━━━━━━━━━━━━━\u001b[0m\u001b[37m\u001b[0m \u001b[1m32s\u001b[0m 577ms/step - accuracy: 0.8002 - loss: 0.5105 - val_accuracy: 0.7527 - val_loss: 0.6491 - learning_rate: 3.0000e-05\n",
      "Epoch 38/100\n",
      "\u001b[1m55/55\u001b[0m \u001b[32m━━━━━━━━━━━━━━━━━━━━\u001b[0m\u001b[37m\u001b[0m \u001b[1m0s\u001b[0m 471ms/step - accuracy: 0.8101 - loss: 0.4803\n",
      "Epoch 38: val_accuracy improved from 0.75266 to 0.76862, saving model to best_mobilenetv2_model_updated.h5\n"
     ]
    },
    {
     "name": "stderr",
     "output_type": "stream",
     "text": [
      "WARNING:absl:You are saving your model as an HDF5 file via `model.save()` or `keras.saving.save_model(model)`. This file format is considered legacy. We recommend using instead the native Keras format, e.g. `model.save('my_model.keras')` or `keras.saving.save_model(model, 'my_model.keras')`. \n"
     ]
    },
    {
     "name": "stdout",
     "output_type": "stream",
     "text": [
      "\u001b[1m55/55\u001b[0m \u001b[32m━━━━━━━━━━━━━━━━━━━━\u001b[0m\u001b[37m\u001b[0m \u001b[1m32s\u001b[0m 572ms/step - accuracy: 0.8099 - loss: 0.4808 - val_accuracy: 0.7686 - val_loss: 0.6101 - learning_rate: 3.0000e-05\n",
      "Epoch 39/100\n",
      "\u001b[1m55/55\u001b[0m \u001b[32m━━━━━━━━━━━━━━━━━━━━\u001b[0m\u001b[37m\u001b[0m \u001b[1m0s\u001b[0m 476ms/step - accuracy: 0.8150 - loss: 0.4479\n",
      "Epoch 39: val_accuracy did not improve from 0.76862\n",
      "\u001b[1m55/55\u001b[0m \u001b[32m━━━━━━━━━━━━━━━━━━━━\u001b[0m\u001b[37m\u001b[0m \u001b[1m32s\u001b[0m 573ms/step - accuracy: 0.8149 - loss: 0.4483 - val_accuracy: 0.7593 - val_loss: 0.6317 - learning_rate: 3.0000e-05\n",
      "Epoch 40/100\n",
      "\u001b[1m55/55\u001b[0m \u001b[32m━━━━━━━━━━━━━━━━━━━━\u001b[0m\u001b[37m\u001b[0m \u001b[1m0s\u001b[0m 470ms/step - accuracy: 0.8106 - loss: 0.4880\n",
      "Epoch 40: val_accuracy improved from 0.76862 to 0.76995, saving model to best_mobilenetv2_model_updated.h5\n"
     ]
    },
    {
     "name": "stderr",
     "output_type": "stream",
     "text": [
      "WARNING:absl:You are saving your model as an HDF5 file via `model.save()` or `keras.saving.save_model(model)`. This file format is considered legacy. We recommend using instead the native Keras format, e.g. `model.save('my_model.keras')` or `keras.saving.save_model(model, 'my_model.keras')`. \n"
     ]
    },
    {
     "name": "stdout",
     "output_type": "stream",
     "text": [
      "\u001b[1m55/55\u001b[0m \u001b[32m━━━━━━━━━━━━━━━━━━━━\u001b[0m\u001b[37m\u001b[0m \u001b[1m32s\u001b[0m 573ms/step - accuracy: 0.8106 - loss: 0.4878 - val_accuracy: 0.7699 - val_loss: 0.6226 - learning_rate: 3.0000e-05\n",
      "Epoch 41/100\n",
      "\u001b[1m55/55\u001b[0m \u001b[32m━━━━━━━━━━━━━━━━━━━━\u001b[0m\u001b[37m\u001b[0m \u001b[1m0s\u001b[0m 459ms/step - accuracy: 0.7848 - loss: 0.5189\n",
      "Epoch 41: val_accuracy did not improve from 0.76995\n",
      "\u001b[1m55/55\u001b[0m \u001b[32m━━━━━━━━━━━━━━━━━━━━\u001b[0m\u001b[37m\u001b[0m \u001b[1m40s\u001b[0m 547ms/step - accuracy: 0.7850 - loss: 0.5187 - val_accuracy: 0.7646 - val_loss: 0.6270 - learning_rate: 3.0000e-05\n",
      "Epoch 42/100\n",
      "\u001b[1m55/55\u001b[0m \u001b[32m━━━━━━━━━━━━━━━━━━━━\u001b[0m\u001b[37m\u001b[0m \u001b[1m0s\u001b[0m 479ms/step - accuracy: 0.8203 - loss: 0.4772\n",
      "Epoch 42: val_accuracy did not improve from 0.76995\n",
      "\u001b[1m55/55\u001b[0m \u001b[32m━━━━━━━━━━━━━━━━━━━━\u001b[0m\u001b[37m\u001b[0m \u001b[1m32s\u001b[0m 575ms/step - accuracy: 0.8201 - loss: 0.4775 - val_accuracy: 0.7699 - val_loss: 0.5971 - learning_rate: 3.0000e-05\n",
      "Epoch 43/100\n",
      "\u001b[1m55/55\u001b[0m \u001b[32m━━━━━━━━━━━━━━━━━━━━\u001b[0m\u001b[37m\u001b[0m \u001b[1m0s\u001b[0m 477ms/step - accuracy: 0.7952 - loss: 0.5090\n",
      "Epoch 43: val_accuracy improved from 0.76995 to 0.78191, saving model to best_mobilenetv2_model_updated.h5\n"
     ]
    },
    {
     "name": "stderr",
     "output_type": "stream",
     "text": [
      "WARNING:absl:You are saving your model as an HDF5 file via `model.save()` or `keras.saving.save_model(model)`. This file format is considered legacy. We recommend using instead the native Keras format, e.g. `model.save('my_model.keras')` or `keras.saving.save_model(model, 'my_model.keras')`. \n"
     ]
    },
    {
     "name": "stdout",
     "output_type": "stream",
     "text": [
      "\u001b[1m55/55\u001b[0m \u001b[32m━━━━━━━━━━━━━━━━━━━━\u001b[0m\u001b[37m\u001b[0m \u001b[1m32s\u001b[0m 577ms/step - accuracy: 0.7952 - loss: 0.5089 - val_accuracy: 0.7819 - val_loss: 0.5962 - learning_rate: 3.0000e-05\n",
      "Epoch 44/100\n",
      "\u001b[1m55/55\u001b[0m \u001b[32m━━━━━━━━━━━━━━━━━━━━\u001b[0m\u001b[37m\u001b[0m \u001b[1m0s\u001b[0m 476ms/step - accuracy: 0.7960 - loss: 0.4990\n",
      "Epoch 44: val_accuracy did not improve from 0.78191\n",
      "\u001b[1m55/55\u001b[0m \u001b[32m━━━━━━━━━━━━━━━━━━━━\u001b[0m\u001b[37m\u001b[0m \u001b[1m31s\u001b[0m 563ms/step - accuracy: 0.7960 - loss: 0.4989 - val_accuracy: 0.7726 - val_loss: 0.6376 - learning_rate: 3.0000e-05\n",
      "Epoch 45/100\n",
      "\u001b[1m55/55\u001b[0m \u001b[32m━━━━━━━━━━━━━━━━━━━━\u001b[0m\u001b[37m\u001b[0m \u001b[1m0s\u001b[0m 477ms/step - accuracy: 0.8060 - loss: 0.4739\n",
      "Epoch 45: val_accuracy did not improve from 0.78191\n",
      "\u001b[1m55/55\u001b[0m \u001b[32m━━━━━━━━━━━━━━━━━━━━\u001b[0m\u001b[37m\u001b[0m \u001b[1m31s\u001b[0m 565ms/step - accuracy: 0.8061 - loss: 0.4739 - val_accuracy: 0.7620 - val_loss: 0.6553 - learning_rate: 3.0000e-05\n",
      "Epoch 46/100\n",
      "\u001b[1m55/55\u001b[0m \u001b[32m━━━━━━━━━━━━━━━━━━━━\u001b[0m\u001b[37m\u001b[0m \u001b[1m0s\u001b[0m 477ms/step - accuracy: 0.8271 - loss: 0.4667\n",
      "Epoch 46: val_accuracy did not improve from 0.78191\n",
      "\u001b[1m55/55\u001b[0m \u001b[32m━━━━━━━━━━━━━━━━━━━━\u001b[0m\u001b[37m\u001b[0m \u001b[1m31s\u001b[0m 564ms/step - accuracy: 0.8269 - loss: 0.4670 - val_accuracy: 0.7620 - val_loss: 0.6809 - learning_rate: 3.0000e-05\n",
      "Epoch 47/100\n",
      "\u001b[1m55/55\u001b[0m \u001b[32m━━━━━━━━━━━━━━━━━━━━\u001b[0m\u001b[37m\u001b[0m \u001b[1m0s\u001b[0m 472ms/step - accuracy: 0.7964 - loss: 0.4670\n",
      "Epoch 47: val_accuracy did not improve from 0.78191\n",
      "\u001b[1m55/55\u001b[0m \u001b[32m━━━━━━━━━━━━━━━━━━━━\u001b[0m\u001b[37m\u001b[0m \u001b[1m31s\u001b[0m 559ms/step - accuracy: 0.7964 - loss: 0.4672 - val_accuracy: 0.7766 - val_loss: 0.6135 - learning_rate: 3.0000e-05\n",
      "Epoch 48/100\n",
      "\u001b[1m55/55\u001b[0m \u001b[32m━━━━━━━━━━━━━━━━━━━━\u001b[0m\u001b[37m\u001b[0m \u001b[1m0s\u001b[0m 477ms/step - accuracy: 0.8026 - loss: 0.4750\n",
      "Epoch 48: val_accuracy did not improve from 0.78191\n",
      "\u001b[1m55/55\u001b[0m \u001b[32m━━━━━━━━━━━━━━━━━━━━\u001b[0m\u001b[37m\u001b[0m \u001b[1m31s\u001b[0m 562ms/step - accuracy: 0.8026 - loss: 0.4754 - val_accuracy: 0.7779 - val_loss: 0.5940 - learning_rate: 3.0000e-05\n",
      "Epoch 49/100\n",
      "\u001b[1m55/55\u001b[0m \u001b[32m━━━━━━━━━━━━━━━━━━━━\u001b[0m\u001b[37m\u001b[0m \u001b[1m0s\u001b[0m 477ms/step - accuracy: 0.8051 - loss: 0.5152\n",
      "Epoch 49: val_accuracy improved from 0.78191 to 0.79122, saving model to best_mobilenetv2_model_updated.h5\n"
     ]
    },
    {
     "name": "stderr",
     "output_type": "stream",
     "text": [
      "WARNING:absl:You are saving your model as an HDF5 file via `model.save()` or `keras.saving.save_model(model)`. This file format is considered legacy. We recommend using instead the native Keras format, e.g. `model.save('my_model.keras')` or `keras.saving.save_model(model, 'my_model.keras')`. \n"
     ]
    },
    {
     "name": "stdout",
     "output_type": "stream",
     "text": [
      "\u001b[1m55/55\u001b[0m \u001b[32m━━━━━━━━━━━━━━━━━━━━\u001b[0m\u001b[37m\u001b[0m \u001b[1m32s\u001b[0m 586ms/step - accuracy: 0.8053 - loss: 0.5149 - val_accuracy: 0.7912 - val_loss: 0.5712 - learning_rate: 3.0000e-05\n",
      "Epoch 50/100\n",
      "\u001b[1m55/55\u001b[0m \u001b[32m━━━━━━━━━━━━━━━━━━━━\u001b[0m\u001b[37m\u001b[0m \u001b[1m0s\u001b[0m 487ms/step - accuracy: 0.8249 - loss: 0.4411\n",
      "Epoch 50: val_accuracy did not improve from 0.79122\n",
      "\u001b[1m55/55\u001b[0m \u001b[32m━━━━━━━━━━━━━━━━━━━━\u001b[0m\u001b[37m\u001b[0m \u001b[1m32s\u001b[0m 578ms/step - accuracy: 0.8247 - loss: 0.4416 - val_accuracy: 0.7832 - val_loss: 0.6041 - learning_rate: 3.0000e-05\n",
      "Epoch 51/100\n",
      "\u001b[1m55/55\u001b[0m \u001b[32m━━━━━━━━━━━━━━━━━━━━\u001b[0m\u001b[37m\u001b[0m \u001b[1m0s\u001b[0m 488ms/step - accuracy: 0.8239 - loss: 0.4501\n",
      "Epoch 51: val_accuracy improved from 0.79122 to 0.79255, saving model to best_mobilenetv2_model_updated.h5\n"
     ]
    },
    {
     "name": "stderr",
     "output_type": "stream",
     "text": [
      "WARNING:absl:You are saving your model as an HDF5 file via `model.save()` or `keras.saving.save_model(model)`. This file format is considered legacy. We recommend using instead the native Keras format, e.g. `model.save('my_model.keras')` or `keras.saving.save_model(model, 'my_model.keras')`. \n"
     ]
    },
    {
     "name": "stdout",
     "output_type": "stream",
     "text": [
      "\u001b[1m55/55\u001b[0m \u001b[32m━━━━━━━━━━━━━━━━━━━━\u001b[0m\u001b[37m\u001b[0m \u001b[1m33s\u001b[0m 597ms/step - accuracy: 0.8238 - loss: 0.4503 - val_accuracy: 0.7926 - val_loss: 0.5484 - learning_rate: 3.0000e-05\n",
      "Epoch 52/100\n",
      "\u001b[1m55/55\u001b[0m \u001b[32m━━━━━━━━━━━━━━━━━━━━\u001b[0m\u001b[37m\u001b[0m \u001b[1m0s\u001b[0m 471ms/step - accuracy: 0.8066 - loss: 0.4565\n",
      "Epoch 52: val_accuracy improved from 0.79255 to 0.79521, saving model to best_mobilenetv2_model_updated.h5\n"
     ]
    },
    {
     "name": "stderr",
     "output_type": "stream",
     "text": [
      "WARNING:absl:You are saving your model as an HDF5 file via `model.save()` or `keras.saving.save_model(model)`. This file format is considered legacy. We recommend using instead the native Keras format, e.g. `model.save('my_model.keras')` or `keras.saving.save_model(model, 'my_model.keras')`. \n"
     ]
    },
    {
     "name": "stdout",
     "output_type": "stream",
     "text": [
      "\u001b[1m55/55\u001b[0m \u001b[32m━━━━━━━━━━━━━━━━━━━━\u001b[0m\u001b[37m\u001b[0m \u001b[1m40s\u001b[0m 576ms/step - accuracy: 0.8066 - loss: 0.4567 - val_accuracy: 0.7952 - val_loss: 0.5523 - learning_rate: 3.0000e-05\n",
      "Epoch 53/100\n",
      "\u001b[1m55/55\u001b[0m \u001b[32m━━━━━━━━━━━━━━━━━━━━\u001b[0m\u001b[37m\u001b[0m \u001b[1m0s\u001b[0m 467ms/step - accuracy: 0.8025 - loss: 0.4785\n",
      "Epoch 53: val_accuracy did not improve from 0.79521\n",
      "\u001b[1m55/55\u001b[0m \u001b[32m━━━━━━━━━━━━━━━━━━━━\u001b[0m\u001b[37m\u001b[0m \u001b[1m40s\u001b[0m 553ms/step - accuracy: 0.8028 - loss: 0.4781 - val_accuracy: 0.7899 - val_loss: 0.5584 - learning_rate: 3.0000e-05\n",
      "Epoch 54/100\n",
      "\u001b[1m55/55\u001b[0m \u001b[32m━━━━━━━━━━━━━━━━━━━━\u001b[0m\u001b[37m\u001b[0m \u001b[1m0s\u001b[0m 473ms/step - accuracy: 0.8252 - loss: 0.4530\n",
      "Epoch 54: val_accuracy improved from 0.79521 to 0.79920, saving model to best_mobilenetv2_model_updated.h5\n"
     ]
    },
    {
     "name": "stderr",
     "output_type": "stream",
     "text": [
      "WARNING:absl:You are saving your model as an HDF5 file via `model.save()` or `keras.saving.save_model(model)`. This file format is considered legacy. We recommend using instead the native Keras format, e.g. `model.save('my_model.keras')` or `keras.saving.save_model(model, 'my_model.keras')`. \n"
     ]
    },
    {
     "name": "stdout",
     "output_type": "stream",
     "text": [
      "\u001b[1m55/55\u001b[0m \u001b[32m━━━━━━━━━━━━━━━━━━━━\u001b[0m\u001b[37m\u001b[0m \u001b[1m32s\u001b[0m 573ms/step - accuracy: 0.8251 - loss: 0.4531 - val_accuracy: 0.7992 - val_loss: 0.5711 - learning_rate: 3.0000e-05\n",
      "Epoch 55/100\n",
      "\u001b[1m55/55\u001b[0m \u001b[32m━━━━━━━━━━━━━━━━━━━━\u001b[0m\u001b[37m\u001b[0m \u001b[1m0s\u001b[0m 472ms/step - accuracy: 0.8316 - loss: 0.4405\n",
      "Epoch 55: val_accuracy did not improve from 0.79920\n",
      "\u001b[1m55/55\u001b[0m \u001b[32m━━━━━━━━━━━━━━━━━━━━\u001b[0m\u001b[37m\u001b[0m \u001b[1m31s\u001b[0m 564ms/step - accuracy: 0.8314 - loss: 0.4405 - val_accuracy: 0.7992 - val_loss: 0.5553 - learning_rate: 3.0000e-05\n",
      "Epoch 56/100\n",
      "\u001b[1m55/55\u001b[0m \u001b[32m━━━━━━━━━━━━━━━━━━━━\u001b[0m\u001b[37m\u001b[0m \u001b[1m0s\u001b[0m 480ms/step - accuracy: 0.8037 - loss: 0.4628\n",
      "Epoch 56: val_accuracy improved from 0.79920 to 0.80319, saving model to best_mobilenetv2_model_updated.h5\n"
     ]
    },
    {
     "name": "stderr",
     "output_type": "stream",
     "text": [
      "WARNING:absl:You are saving your model as an HDF5 file via `model.save()` or `keras.saving.save_model(model)`. This file format is considered legacy. We recommend using instead the native Keras format, e.g. `model.save('my_model.keras')` or `keras.saving.save_model(model, 'my_model.keras')`. \n"
     ]
    },
    {
     "name": "stdout",
     "output_type": "stream",
     "text": [
      "\u001b[1m55/55\u001b[0m \u001b[32m━━━━━━━━━━━━━━━━━━━━\u001b[0m\u001b[37m\u001b[0m \u001b[1m32s\u001b[0m 587ms/step - accuracy: 0.8038 - loss: 0.4628 - val_accuracy: 0.8032 - val_loss: 0.5495 - learning_rate: 3.0000e-05\n",
      "Epoch 57/100\n",
      "\u001b[1m55/55\u001b[0m \u001b[32m━━━━━━━━━━━━━━━━━━━━\u001b[0m\u001b[37m\u001b[0m \u001b[1m0s\u001b[0m 477ms/step - accuracy: 0.8421 - loss: 0.4335\n",
      "Epoch 57: val_accuracy improved from 0.80319 to 0.80452, saving model to best_mobilenetv2_model_updated.h5\n"
     ]
    },
    {
     "name": "stderr",
     "output_type": "stream",
     "text": [
      "WARNING:absl:You are saving your model as an HDF5 file via `model.save()` or `keras.saving.save_model(model)`. This file format is considered legacy. We recommend using instead the native Keras format, e.g. `model.save('my_model.keras')` or `keras.saving.save_model(model, 'my_model.keras')`. \n"
     ]
    },
    {
     "name": "stdout",
     "output_type": "stream",
     "text": [
      "\u001b[1m55/55\u001b[0m \u001b[32m━━━━━━━━━━━━━━━━━━━━\u001b[0m\u001b[37m\u001b[0m \u001b[1m32s\u001b[0m 583ms/step - accuracy: 0.8420 - loss: 0.4333 - val_accuracy: 0.8045 - val_loss: 0.5510 - learning_rate: 3.0000e-05\n",
      "Epoch 58/100\n",
      "\u001b[1m55/55\u001b[0m \u001b[32m━━━━━━━━━━━━━━━━━━━━\u001b[0m\u001b[37m\u001b[0m \u001b[1m0s\u001b[0m 475ms/step - accuracy: 0.8270 - loss: 0.4564\n",
      "Epoch 58: val_accuracy did not improve from 0.80452\n",
      "\u001b[1m55/55\u001b[0m \u001b[32m━━━━━━━━━━━━━━━━━━━━\u001b[0m\u001b[37m\u001b[0m \u001b[1m40s\u001b[0m 560ms/step - accuracy: 0.8269 - loss: 0.4564 - val_accuracy: 0.7926 - val_loss: 0.5583 - learning_rate: 3.0000e-05\n",
      "Epoch 59/100\n",
      "\u001b[1m55/55\u001b[0m \u001b[32m━━━━━━━━━━━━━━━━━━━━\u001b[0m\u001b[37m\u001b[0m \u001b[1m0s\u001b[0m 472ms/step - accuracy: 0.8317 - loss: 0.4356\n",
      "Epoch 59: val_accuracy improved from 0.80452 to 0.81383, saving model to best_mobilenetv2_model_updated.h5\n"
     ]
    },
    {
     "name": "stderr",
     "output_type": "stream",
     "text": [
      "WARNING:absl:You are saving your model as an HDF5 file via `model.save()` or `keras.saving.save_model(model)`. This file format is considered legacy. We recommend using instead the native Keras format, e.g. `model.save('my_model.keras')` or `keras.saving.save_model(model, 'my_model.keras')`. \n"
     ]
    },
    {
     "name": "stdout",
     "output_type": "stream",
     "text": [
      "\u001b[1m55/55\u001b[0m \u001b[32m━━━━━━━━━━━━━━━━━━━━\u001b[0m\u001b[37m\u001b[0m \u001b[1m42s\u001b[0m 573ms/step - accuracy: 0.8317 - loss: 0.4356 - val_accuracy: 0.8138 - val_loss: 0.5321 - learning_rate: 3.0000e-05\n",
      "Epoch 60/100\n",
      "\u001b[1m55/55\u001b[0m \u001b[32m━━━━━━━━━━━━━━━━━━━━\u001b[0m\u001b[37m\u001b[0m \u001b[1m0s\u001b[0m 474ms/step - accuracy: 0.8465 - loss: 0.4121\n",
      "Epoch 60: val_accuracy did not improve from 0.81383\n",
      "\u001b[1m55/55\u001b[0m \u001b[32m━━━━━━━━━━━━━━━━━━━━\u001b[0m\u001b[37m\u001b[0m \u001b[1m31s\u001b[0m 564ms/step - accuracy: 0.8464 - loss: 0.4124 - val_accuracy: 0.8138 - val_loss: 0.5214 - learning_rate: 3.0000e-05\n",
      "Epoch 61/100\n",
      "\u001b[1m55/55\u001b[0m \u001b[32m━━━━━━━━━━━━━━━━━━━━\u001b[0m\u001b[37m\u001b[0m \u001b[1m0s\u001b[0m 483ms/step - accuracy: 0.8224 - loss: 0.4249\n",
      "Epoch 61: val_accuracy did not improve from 0.81383\n",
      "\u001b[1m55/55\u001b[0m \u001b[32m━━━━━━━━━━━━━━━━━━━━\u001b[0m\u001b[37m\u001b[0m \u001b[1m31s\u001b[0m 569ms/step - accuracy: 0.8223 - loss: 0.4251 - val_accuracy: 0.8045 - val_loss: 0.5339 - learning_rate: 3.0000e-05\n",
      "Epoch 62/100\n",
      "\u001b[1m55/55\u001b[0m \u001b[32m━━━━━━━━━━━━━━━━━━━━\u001b[0m\u001b[37m\u001b[0m \u001b[1m0s\u001b[0m 480ms/step - accuracy: 0.8124 - loss: 0.4442\n",
      "Epoch 62: val_accuracy did not improve from 0.81383\n",
      "\u001b[1m55/55\u001b[0m \u001b[32m━━━━━━━━━━━━━━━━━━━━\u001b[0m\u001b[37m\u001b[0m \u001b[1m31s\u001b[0m 567ms/step - accuracy: 0.8124 - loss: 0.4444 - val_accuracy: 0.8005 - val_loss: 0.5354 - learning_rate: 3.0000e-05\n",
      "Epoch 63/100\n",
      "\u001b[1m55/55\u001b[0m \u001b[32m━━━━━━━━━━━━━━━━━━━━\u001b[0m\u001b[37m\u001b[0m \u001b[1m0s\u001b[0m 475ms/step - accuracy: 0.8350 - loss: 0.4367\n",
      "Epoch 63: val_accuracy did not improve from 0.81383\n",
      "\u001b[1m55/55\u001b[0m \u001b[32m━━━━━━━━━━━━━━━━━━━━\u001b[0m\u001b[37m\u001b[0m \u001b[1m31s\u001b[0m 560ms/step - accuracy: 0.8349 - loss: 0.4368 - val_accuracy: 0.7939 - val_loss: 0.5744 - learning_rate: 3.0000e-05\n",
      "Epoch 64/100\n",
      "\u001b[1m55/55\u001b[0m \u001b[32m━━━━━━━━━━━━━━━━━━━━\u001b[0m\u001b[37m\u001b[0m \u001b[1m0s\u001b[0m 470ms/step - accuracy: 0.8153 - loss: 0.4457\n",
      "Epoch 64: val_accuracy did not improve from 0.81383\n",
      "\u001b[1m55/55\u001b[0m \u001b[32m━━━━━━━━━━━━━━━━━━━━\u001b[0m\u001b[37m\u001b[0m \u001b[1m31s\u001b[0m 555ms/step - accuracy: 0.8153 - loss: 0.4458 - val_accuracy: 0.7886 - val_loss: 0.5752 - learning_rate: 3.0000e-05\n",
      "Epoch 65/100\n",
      "\u001b[1m55/55\u001b[0m \u001b[32m━━━━━━━━━━━━━━━━━━━━\u001b[0m\u001b[37m\u001b[0m \u001b[1m0s\u001b[0m 472ms/step - accuracy: 0.8237 - loss: 0.4257\n",
      "Epoch 65: val_accuracy did not improve from 0.81383\n",
      "\u001b[1m55/55\u001b[0m \u001b[32m━━━━━━━━━━━━━━━━━━━━\u001b[0m\u001b[37m\u001b[0m \u001b[1m31s\u001b[0m 563ms/step - accuracy: 0.8238 - loss: 0.4257 - val_accuracy: 0.8045 - val_loss: 0.5414 - learning_rate: 3.0000e-05\n",
      "Epoch 66/100\n",
      "\u001b[1m55/55\u001b[0m \u001b[32m━━━━━━━━━━━━━━━━━━━━\u001b[0m\u001b[37m\u001b[0m \u001b[1m0s\u001b[0m 462ms/step - accuracy: 0.8461 - loss: 0.4015\n",
      "Epoch 66: val_accuracy did not improve from 0.81383\n",
      "\u001b[1m55/55\u001b[0m \u001b[32m━━━━━━━━━━━━━━━━━━━━\u001b[0m\u001b[37m\u001b[0m \u001b[1m31s\u001b[0m 555ms/step - accuracy: 0.8457 - loss: 0.4019 - val_accuracy: 0.8019 - val_loss: 0.5403 - learning_rate: 3.0000e-05\n",
      "Epoch 67/100\n",
      "\u001b[1m55/55\u001b[0m \u001b[32m━━━━━━━━━━━━━━━━━━━━\u001b[0m\u001b[37m\u001b[0m \u001b[1m0s\u001b[0m 478ms/step - accuracy: 0.8356 - loss: 0.4222\n",
      "Epoch 67: val_accuracy did not improve from 0.81383\n",
      "\u001b[1m55/55\u001b[0m \u001b[32m━━━━━━━━━━━━━━━━━━━━\u001b[0m\u001b[37m\u001b[0m \u001b[1m31s\u001b[0m 565ms/step - accuracy: 0.8356 - loss: 0.4220 - val_accuracy: 0.8059 - val_loss: 0.5304 - learning_rate: 3.0000e-05\n",
      "Epoch 68/100\n",
      "\u001b[1m55/55\u001b[0m \u001b[32m━━━━━━━━━━━━━━━━━━━━\u001b[0m\u001b[37m\u001b[0m \u001b[1m0s\u001b[0m 473ms/step - accuracy: 0.8316 - loss: 0.4046\n",
      "Epoch 68: val_accuracy did not improve from 0.81383\n",
      "\u001b[1m55/55\u001b[0m \u001b[32m━━━━━━━━━━━━━━━━━━━━\u001b[0m\u001b[37m\u001b[0m \u001b[1m31s\u001b[0m 569ms/step - accuracy: 0.8315 - loss: 0.4047 - val_accuracy: 0.8045 - val_loss: 0.5354 - learning_rate: 3.0000e-05\n",
      "Epoch 69/100\n",
      "\u001b[1m55/55\u001b[0m \u001b[32m━━━━━━━━━━━━━━━━━━━━\u001b[0m\u001b[37m\u001b[0m \u001b[1m0s\u001b[0m 478ms/step - accuracy: 0.8436 - loss: 0.3969\n",
      "Epoch 69: ReduceLROnPlateau reducing learning rate to 8.999999772640877e-06.\n",
      "\n",
      "Epoch 69: val_accuracy did not improve from 0.81383\n",
      "\u001b[1m55/55\u001b[0m \u001b[32m━━━━━━━━━━━━━━━━━━━━\u001b[0m\u001b[37m\u001b[0m \u001b[1m32s\u001b[0m 576ms/step - accuracy: 0.8435 - loss: 0.3971 - val_accuracy: 0.8112 - val_loss: 0.5362 - learning_rate: 3.0000e-05\n",
      "Epoch 70/100\n",
      "\u001b[1m55/55\u001b[0m \u001b[32m━━━━━━━━━━━━━━━━━━━━\u001b[0m\u001b[37m\u001b[0m \u001b[1m0s\u001b[0m 478ms/step - accuracy: 0.8552 - loss: 0.3804\n",
      "Epoch 70: val_accuracy improved from 0.81383 to 0.81649, saving model to best_mobilenetv2_model_updated.h5\n"
     ]
    },
    {
     "name": "stderr",
     "output_type": "stream",
     "text": [
      "WARNING:absl:You are saving your model as an HDF5 file via `model.save()` or `keras.saving.save_model(model)`. This file format is considered legacy. We recommend using instead the native Keras format, e.g. `model.save('my_model.keras')` or `keras.saving.save_model(model, 'my_model.keras')`. \n"
     ]
    },
    {
     "name": "stdout",
     "output_type": "stream",
     "text": [
      "\u001b[1m55/55\u001b[0m \u001b[32m━━━━━━━━━━━━━━━━━━━━\u001b[0m\u001b[37m\u001b[0m \u001b[1m32s\u001b[0m 584ms/step - accuracy: 0.8550 - loss: 0.3806 - val_accuracy: 0.8165 - val_loss: 0.5265 - learning_rate: 9.0000e-06\n",
      "Epoch 71/100\n",
      "\u001b[1m55/55\u001b[0m \u001b[32m━━━━━━━━━━━━━━━━━━━━\u001b[0m\u001b[37m\u001b[0m \u001b[1m0s\u001b[0m 479ms/step - accuracy: 0.8501 - loss: 0.3709\n",
      "Epoch 71: val_accuracy did not improve from 0.81649\n",
      "\u001b[1m55/55\u001b[0m \u001b[32m━━━━━━━━━━━━━━━━━━━━\u001b[0m\u001b[37m\u001b[0m \u001b[1m40s\u001b[0m 571ms/step - accuracy: 0.8499 - loss: 0.3714 - val_accuracy: 0.8152 - val_loss: 0.5307 - learning_rate: 9.0000e-06\n",
      "Epoch 72/100\n",
      "\u001b[1m55/55\u001b[0m \u001b[32m━━━━━━━━━━━━━━━━━━━━\u001b[0m\u001b[37m\u001b[0m \u001b[1m0s\u001b[0m 478ms/step - accuracy: 0.8394 - loss: 0.4083\n",
      "Epoch 72: val_accuracy improved from 0.81649 to 0.81915, saving model to best_mobilenetv2_model_updated.h5\n"
     ]
    },
    {
     "name": "stderr",
     "output_type": "stream",
     "text": [
      "WARNING:absl:You are saving your model as an HDF5 file via `model.save()` or `keras.saving.save_model(model)`. This file format is considered legacy. We recommend using instead the native Keras format, e.g. `model.save('my_model.keras')` or `keras.saving.save_model(model, 'my_model.keras')`. \n"
     ]
    },
    {
     "name": "stdout",
     "output_type": "stream",
     "text": [
      "\u001b[1m55/55\u001b[0m \u001b[32m━━━━━━━━━━━━━━━━━━━━\u001b[0m\u001b[37m\u001b[0m \u001b[1m32s\u001b[0m 580ms/step - accuracy: 0.8394 - loss: 0.4081 - val_accuracy: 0.8191 - val_loss: 0.5285 - learning_rate: 9.0000e-06\n",
      "Epoch 73/100\n",
      "\u001b[1m55/55\u001b[0m \u001b[32m━━━━━━━━━━━━━━━━━━━━\u001b[0m\u001b[37m\u001b[0m \u001b[1m0s\u001b[0m 473ms/step - accuracy: 0.8325 - loss: 0.4470\n",
      "Epoch 73: val_accuracy did not improve from 0.81915\n",
      "\u001b[1m55/55\u001b[0m \u001b[32m━━━━━━━━━━━━━━━━━━━━\u001b[0m\u001b[37m\u001b[0m \u001b[1m31s\u001b[0m 571ms/step - accuracy: 0.8326 - loss: 0.4467 - val_accuracy: 0.8152 - val_loss: 0.5322 - learning_rate: 9.0000e-06\n",
      "Epoch 74/100\n",
      "\u001b[1m55/55\u001b[0m \u001b[32m━━━━━━━━━━━━━━━━━━━━\u001b[0m\u001b[37m\u001b[0m \u001b[1m0s\u001b[0m 468ms/step - accuracy: 0.8458 - loss: 0.3961\n",
      "Epoch 74: val_accuracy improved from 0.81915 to 0.82447, saving model to best_mobilenetv2_model_updated.h5\n"
     ]
    },
    {
     "name": "stderr",
     "output_type": "stream",
     "text": [
      "WARNING:absl:You are saving your model as an HDF5 file via `model.save()` or `keras.saving.save_model(model)`. This file format is considered legacy. We recommend using instead the native Keras format, e.g. `model.save('my_model.keras')` or `keras.saving.save_model(model, 'my_model.keras')`. \n"
     ]
    },
    {
     "name": "stdout",
     "output_type": "stream",
     "text": [
      "\u001b[1m55/55\u001b[0m \u001b[32m━━━━━━━━━━━━━━━━━━━━\u001b[0m\u001b[37m\u001b[0m \u001b[1m31s\u001b[0m 570ms/step - accuracy: 0.8458 - loss: 0.3960 - val_accuracy: 0.8245 - val_loss: 0.5307 - learning_rate: 9.0000e-06\n",
      "Epoch 75/100\n",
      "\u001b[1m55/55\u001b[0m \u001b[32m━━━━━━━━━━━━━━━━━━━━\u001b[0m\u001b[37m\u001b[0m \u001b[1m0s\u001b[0m 469ms/step - accuracy: 0.8367 - loss: 0.4149\n",
      "Epoch 75: val_accuracy did not improve from 0.82447\n",
      "\u001b[1m55/55\u001b[0m \u001b[32m━━━━━━━━━━━━━━━━━━━━\u001b[0m\u001b[37m\u001b[0m \u001b[1m31s\u001b[0m 554ms/step - accuracy: 0.8365 - loss: 0.4155 - val_accuracy: 0.8191 - val_loss: 0.5327 - learning_rate: 9.0000e-06\n",
      "Epoch 76/100\n",
      "\u001b[1m55/55\u001b[0m \u001b[32m━━━━━━━━━━━━━━━━━━━━\u001b[0m\u001b[37m\u001b[0m \u001b[1m0s\u001b[0m 476ms/step - accuracy: 0.8418 - loss: 0.4088\n",
      "Epoch 76: val_accuracy did not improve from 0.82447\n",
      "\u001b[1m55/55\u001b[0m \u001b[32m━━━━━━━━━━━━━━━━━━━━\u001b[0m\u001b[37m\u001b[0m \u001b[1m31s\u001b[0m 563ms/step - accuracy: 0.8420 - loss: 0.4086 - val_accuracy: 0.8178 - val_loss: 0.5364 - learning_rate: 9.0000e-06\n",
      "Epoch 77/100\n",
      "\u001b[1m55/55\u001b[0m \u001b[32m━━━━━━━━━━━━━━━━━━━━\u001b[0m\u001b[37m\u001b[0m \u001b[1m0s\u001b[0m 472ms/step - accuracy: 0.8588 - loss: 0.3713\n",
      "Epoch 77: val_accuracy did not improve from 0.82447\n",
      "\u001b[1m55/55\u001b[0m \u001b[32m━━━━━━━━━━━━━━━━━━━━\u001b[0m\u001b[37m\u001b[0m \u001b[1m31s\u001b[0m 558ms/step - accuracy: 0.8585 - loss: 0.3718 - val_accuracy: 0.8245 - val_loss: 0.5310 - learning_rate: 9.0000e-06\n",
      "Epoch 78/100\n",
      "\u001b[1m55/55\u001b[0m \u001b[32m━━━━━━━━━━━━━━━━━━━━\u001b[0m\u001b[37m\u001b[0m \u001b[1m0s\u001b[0m 480ms/step - accuracy: 0.8543 - loss: 0.4039\n",
      "Epoch 78: val_accuracy did not improve from 0.82447\n",
      "\u001b[1m55/55\u001b[0m \u001b[32m━━━━━━━━━━━━━━━━━━━━\u001b[0m\u001b[37m\u001b[0m \u001b[1m32s\u001b[0m 577ms/step - accuracy: 0.8541 - loss: 0.4039 - val_accuracy: 0.8205 - val_loss: 0.5385 - learning_rate: 9.0000e-06\n",
      "Epoch 79/100\n",
      "\u001b[1m55/55\u001b[0m \u001b[32m━━━━━━━━━━━━━━━━━━━━\u001b[0m\u001b[37m\u001b[0m \u001b[1m0s\u001b[0m 478ms/step - accuracy: 0.8444 - loss: 0.4020\n",
      "Epoch 79: val_accuracy did not improve from 0.82447\n",
      "\u001b[1m55/55\u001b[0m \u001b[32m━━━━━━━━━━━━━━━━━━━━\u001b[0m\u001b[37m\u001b[0m \u001b[1m32s\u001b[0m 575ms/step - accuracy: 0.8445 - loss: 0.4017 - val_accuracy: 0.8178 - val_loss: 0.5251 - learning_rate: 9.0000e-06\n",
      "Epoch 80/100\n",
      "\u001b[1m55/55\u001b[0m \u001b[32m━━━━━━━━━━━━━━━━━━━━\u001b[0m\u001b[37m\u001b[0m \u001b[1m0s\u001b[0m 479ms/step - accuracy: 0.8584 - loss: 0.3754\n",
      "Epoch 80: val_accuracy did not improve from 0.82447\n",
      "\u001b[1m55/55\u001b[0m \u001b[32m━━━━━━━━━━━━━━━━━━━━\u001b[0m\u001b[37m\u001b[0m \u001b[1m32s\u001b[0m 573ms/step - accuracy: 0.8583 - loss: 0.3757 - val_accuracy: 0.8231 - val_loss: 0.5236 - learning_rate: 9.0000e-06\n",
      "Epoch 81/100\n",
      "\u001b[1m55/55\u001b[0m \u001b[32m━━━━━━━━━━━━━━━━━━━━\u001b[0m\u001b[37m\u001b[0m \u001b[1m0s\u001b[0m 476ms/step - accuracy: 0.8424 - loss: 0.3974\n",
      "Epoch 81: val_accuracy improved from 0.82447 to 0.82580, saving model to best_mobilenetv2_model_updated.h5\n"
     ]
    },
    {
     "name": "stderr",
     "output_type": "stream",
     "text": [
      "WARNING:absl:You are saving your model as an HDF5 file via `model.save()` or `keras.saving.save_model(model)`. This file format is considered legacy. We recommend using instead the native Keras format, e.g. `model.save('my_model.keras')` or `keras.saving.save_model(model, 'my_model.keras')`. \n"
     ]
    },
    {
     "name": "stdout",
     "output_type": "stream",
     "text": [
      "\u001b[1m55/55\u001b[0m \u001b[32m━━━━━━━━━━━━━━━━━━━━\u001b[0m\u001b[37m\u001b[0m \u001b[1m32s\u001b[0m 582ms/step - accuracy: 0.8424 - loss: 0.3974 - val_accuracy: 0.8258 - val_loss: 0.5200 - learning_rate: 9.0000e-06\n",
      "Epoch 82/100\n",
      "\u001b[1m55/55\u001b[0m \u001b[32m━━━━━━━━━━━━━━━━━━━━\u001b[0m\u001b[37m\u001b[0m \u001b[1m0s\u001b[0m 470ms/step - accuracy: 0.8342 - loss: 0.4121\n",
      "Epoch 82: val_accuracy improved from 0.82580 to 0.82846, saving model to best_mobilenetv2_model_updated.h5\n"
     ]
    },
    {
     "name": "stderr",
     "output_type": "stream",
     "text": [
      "WARNING:absl:You are saving your model as an HDF5 file via `model.save()` or `keras.saving.save_model(model)`. This file format is considered legacy. We recommend using instead the native Keras format, e.g. `model.save('my_model.keras')` or `keras.saving.save_model(model, 'my_model.keras')`. \n"
     ]
    },
    {
     "name": "stdout",
     "output_type": "stream",
     "text": [
      "\u001b[1m55/55\u001b[0m \u001b[32m━━━━━━━━━━━━━━━━━━━━\u001b[0m\u001b[37m\u001b[0m \u001b[1m40s\u001b[0m 566ms/step - accuracy: 0.8342 - loss: 0.4120 - val_accuracy: 0.8285 - val_loss: 0.5200 - learning_rate: 9.0000e-06\n",
      "Epoch 83/100\n",
      "\u001b[1m55/55\u001b[0m \u001b[32m━━━━━━━━━━━━━━━━━━━━\u001b[0m\u001b[37m\u001b[0m \u001b[1m0s\u001b[0m 470ms/step - accuracy: 0.8480 - loss: 0.3992\n",
      "Epoch 83: val_accuracy did not improve from 0.82846\n",
      "\u001b[1m55/55\u001b[0m \u001b[32m━━━━━━━━━━━━━━━━━━━━\u001b[0m\u001b[37m\u001b[0m \u001b[1m31s\u001b[0m 556ms/step - accuracy: 0.8478 - loss: 0.3994 - val_accuracy: 0.8285 - val_loss: 0.5220 - learning_rate: 9.0000e-06\n",
      "Epoch 84/100\n",
      "\u001b[1m55/55\u001b[0m \u001b[32m━━━━━━━━━━━━━━━━━━━━\u001b[0m\u001b[37m\u001b[0m \u001b[1m0s\u001b[0m 467ms/step - accuracy: 0.8465 - loss: 0.3923\n",
      "Epoch 84: val_accuracy did not improve from 0.82846\n",
      "\u001b[1m55/55\u001b[0m \u001b[32m━━━━━━━━━━━━━━━━━━━━\u001b[0m\u001b[37m\u001b[0m \u001b[1m30s\u001b[0m 550ms/step - accuracy: 0.8464 - loss: 0.3926 - val_accuracy: 0.8271 - val_loss: 0.5282 - learning_rate: 9.0000e-06\n",
      "Epoch 85/100\n",
      "\u001b[1m55/55\u001b[0m \u001b[32m━━━━━━━━━━━━━━━━━━━━\u001b[0m\u001b[37m\u001b[0m \u001b[1m0s\u001b[0m 468ms/step - accuracy: 0.8468 - loss: 0.3990\n",
      "Epoch 85: val_accuracy improved from 0.82846 to 0.83112, saving model to best_mobilenetv2_model_updated.h5\n"
     ]
    },
    {
     "name": "stderr",
     "output_type": "stream",
     "text": [
      "WARNING:absl:You are saving your model as an HDF5 file via `model.save()` or `keras.saving.save_model(model)`. This file format is considered legacy. We recommend using instead the native Keras format, e.g. `model.save('my_model.keras')` or `keras.saving.save_model(model, 'my_model.keras')`. \n"
     ]
    },
    {
     "name": "stdout",
     "output_type": "stream",
     "text": [
      "\u001b[1m55/55\u001b[0m \u001b[32m━━━━━━━━━━━━━━━━━━━━\u001b[0m\u001b[37m\u001b[0m \u001b[1m32s\u001b[0m 573ms/step - accuracy: 0.8469 - loss: 0.3989 - val_accuracy: 0.8311 - val_loss: 0.5329 - learning_rate: 9.0000e-06\n",
      "Epoch 86/100\n",
      "\u001b[1m55/55\u001b[0m \u001b[32m━━━━━━━━━━━━━━━━━━━━\u001b[0m\u001b[37m\u001b[0m \u001b[1m0s\u001b[0m 480ms/step - accuracy: 0.8594 - loss: 0.3787\n",
      "Epoch 86: val_accuracy improved from 0.83112 to 0.83245, saving model to best_mobilenetv2_model_updated.h5\n"
     ]
    },
    {
     "name": "stderr",
     "output_type": "stream",
     "text": [
      "WARNING:absl:You are saving your model as an HDF5 file via `model.save()` or `keras.saving.save_model(model)`. This file format is considered legacy. We recommend using instead the native Keras format, e.g. `model.save('my_model.keras')` or `keras.saving.save_model(model, 'my_model.keras')`. \n"
     ]
    },
    {
     "name": "stdout",
     "output_type": "stream",
     "text": [
      "\u001b[1m55/55\u001b[0m \u001b[32m━━━━━━━━━━━━━━━━━━━━\u001b[0m\u001b[37m\u001b[0m \u001b[1m32s\u001b[0m 585ms/step - accuracy: 0.8593 - loss: 0.3787 - val_accuracy: 0.8324 - val_loss: 0.5239 - learning_rate: 9.0000e-06\n",
      "Epoch 87/100\n",
      "\u001b[1m55/55\u001b[0m \u001b[32m━━━━━━━━━━━━━━━━━━━━\u001b[0m\u001b[37m\u001b[0m \u001b[1m0s\u001b[0m 474ms/step - accuracy: 0.8582 - loss: 0.3757\n",
      "Epoch 87: val_accuracy improved from 0.83245 to 0.83777, saving model to best_mobilenetv2_model_updated.h5\n"
     ]
    },
    {
     "name": "stderr",
     "output_type": "stream",
     "text": [
      "WARNING:absl:You are saving your model as an HDF5 file via `model.save()` or `keras.saving.save_model(model)`. This file format is considered legacy. We recommend using instead the native Keras format, e.g. `model.save('my_model.keras')` or `keras.saving.save_model(model, 'my_model.keras')`. \n"
     ]
    },
    {
     "name": "stdout",
     "output_type": "stream",
     "text": [
      "\u001b[1m55/55\u001b[0m \u001b[32m━━━━━━━━━━━━━━━━━━━━\u001b[0m\u001b[37m\u001b[0m \u001b[1m32s\u001b[0m 581ms/step - accuracy: 0.8580 - loss: 0.3761 - val_accuracy: 0.8378 - val_loss: 0.5238 - learning_rate: 9.0000e-06\n",
      "Epoch 88/100\n",
      "\u001b[1m55/55\u001b[0m \u001b[32m━━━━━━━━━━━━━━━━━━━━\u001b[0m\u001b[37m\u001b[0m \u001b[1m0s\u001b[0m 483ms/step - accuracy: 0.8430 - loss: 0.3960\n",
      "Epoch 88: val_accuracy did not improve from 0.83777\n",
      "\u001b[1m55/55\u001b[0m \u001b[32m━━━━━━━━━━━━━━━━━━━━\u001b[0m\u001b[37m\u001b[0m \u001b[1m32s\u001b[0m 580ms/step - accuracy: 0.8429 - loss: 0.3964 - val_accuracy: 0.8364 - val_loss: 0.5235 - learning_rate: 9.0000e-06\n",
      "Epoch 89/100\n",
      "\u001b[1m55/55\u001b[0m \u001b[32m━━━━━━━━━━━━━━━━━━━━\u001b[0m\u001b[37m\u001b[0m \u001b[1m0s\u001b[0m 476ms/step - accuracy: 0.8787 - loss: 0.3642\n",
      "Epoch 89: val_accuracy did not improve from 0.83777\n",
      "\u001b[1m55/55\u001b[0m \u001b[32m━━━━━━━━━━━━━━━━━━━━\u001b[0m\u001b[37m\u001b[0m \u001b[1m31s\u001b[0m 567ms/step - accuracy: 0.8785 - loss: 0.3644 - val_accuracy: 0.8364 - val_loss: 0.5191 - learning_rate: 9.0000e-06\n",
      "Epoch 90/100\n",
      "\u001b[1m55/55\u001b[0m \u001b[32m━━━━━━━━━━━━━━━━━━━━\u001b[0m\u001b[37m\u001b[0m \u001b[1m0s\u001b[0m 476ms/step - accuracy: 0.8527 - loss: 0.3676\n",
      "Epoch 90: val_accuracy did not improve from 0.83777\n",
      "\u001b[1m55/55\u001b[0m \u001b[32m━━━━━━━━━━━━━━━━━━━━\u001b[0m\u001b[37m\u001b[0m \u001b[1m31s\u001b[0m 567ms/step - accuracy: 0.8527 - loss: 0.3678 - val_accuracy: 0.8351 - val_loss: 0.5163 - learning_rate: 9.0000e-06\n",
      "Epoch 91/100\n",
      "\u001b[1m55/55\u001b[0m \u001b[32m━━━━━━━━━━━━━━━━━━━━\u001b[0m\u001b[37m\u001b[0m \u001b[1m0s\u001b[0m 473ms/step - accuracy: 0.8445 - loss: 0.3978\n",
      "Epoch 91: val_accuracy did not improve from 0.83777\n",
      "\u001b[1m55/55\u001b[0m \u001b[32m━━━━━━━━━━━━━━━━━━━━\u001b[0m\u001b[37m\u001b[0m \u001b[1m31s\u001b[0m 563ms/step - accuracy: 0.8445 - loss: 0.3978 - val_accuracy: 0.8338 - val_loss: 0.5162 - learning_rate: 9.0000e-06\n",
      "Epoch 92/100\n",
      "\u001b[1m55/55\u001b[0m \u001b[32m━━━━━━━━━━━━━━━━━━━━\u001b[0m\u001b[37m\u001b[0m \u001b[1m0s\u001b[0m 479ms/step - accuracy: 0.8407 - loss: 0.3887\n",
      "Epoch 92: val_accuracy did not improve from 0.83777\n",
      "\u001b[1m55/55\u001b[0m \u001b[32m━━━━━━━━━━━━━━━━━━━━\u001b[0m\u001b[37m\u001b[0m \u001b[1m32s\u001b[0m 572ms/step - accuracy: 0.8408 - loss: 0.3886 - val_accuracy: 0.8218 - val_loss: 0.5143 - learning_rate: 9.0000e-06\n",
      "Epoch 93/100\n",
      "\u001b[1m55/55\u001b[0m \u001b[32m━━━━━━━━━━━━━━━━━━━━\u001b[0m\u001b[37m\u001b[0m \u001b[1m0s\u001b[0m 467ms/step - accuracy: 0.8634 - loss: 0.3521\n",
      "Epoch 93: val_accuracy did not improve from 0.83777\n",
      "\u001b[1m55/55\u001b[0m \u001b[32m━━━━━━━━━━━━━━━━━━━━\u001b[0m\u001b[37m\u001b[0m \u001b[1m31s\u001b[0m 561ms/step - accuracy: 0.8634 - loss: 0.3524 - val_accuracy: 0.8364 - val_loss: 0.5110 - learning_rate: 9.0000e-06\n",
      "Epoch 94/100\n",
      "\u001b[1m55/55\u001b[0m \u001b[32m━━━━━━━━━━━━━━━━━━━━\u001b[0m\u001b[37m\u001b[0m \u001b[1m0s\u001b[0m 474ms/step - accuracy: 0.8396 - loss: 0.4112\n",
      "Epoch 94: val_accuracy did not improve from 0.83777\n",
      "\u001b[1m55/55\u001b[0m \u001b[32m━━━━━━━━━━━━━━━━━━━━\u001b[0m\u001b[37m\u001b[0m \u001b[1m31s\u001b[0m 569ms/step - accuracy: 0.8397 - loss: 0.4108 - val_accuracy: 0.8364 - val_loss: 0.5137 - learning_rate: 9.0000e-06\n",
      "Epoch 95/100\n",
      "\u001b[1m55/55\u001b[0m \u001b[32m━━━━━━━━━━━━━━━━━━━━\u001b[0m\u001b[37m\u001b[0m \u001b[1m0s\u001b[0m 466ms/step - accuracy: 0.8426 - loss: 0.3822\n",
      "Epoch 95: val_accuracy did not improve from 0.83777\n",
      "\u001b[1m55/55\u001b[0m \u001b[32m━━━━━━━━━━━━━━━━━━━━\u001b[0m\u001b[37m\u001b[0m \u001b[1m31s\u001b[0m 563ms/step - accuracy: 0.8428 - loss: 0.3820 - val_accuracy: 0.8324 - val_loss: 0.5185 - learning_rate: 9.0000e-06\n",
      "Epoch 96/100\n",
      "\u001b[1m55/55\u001b[0m \u001b[32m━━━━━━━━━━━━━━━━━━━━\u001b[0m\u001b[37m\u001b[0m \u001b[1m0s\u001b[0m 463ms/step - accuracy: 0.8414 - loss: 0.4075\n",
      "Epoch 96: val_accuracy did not improve from 0.83777\n",
      "\u001b[1m55/55\u001b[0m \u001b[32m━━━━━━━━━━━━━━━━━━━━\u001b[0m\u001b[37m\u001b[0m \u001b[1m30s\u001b[0m 552ms/step - accuracy: 0.8416 - loss: 0.4071 - val_accuracy: 0.8311 - val_loss: 0.5216 - learning_rate: 9.0000e-06\n",
      "Epoch 97/100\n",
      "\u001b[1m55/55\u001b[0m \u001b[32m━━━━━━━━━━━━━━━━━━━━\u001b[0m\u001b[37m\u001b[0m \u001b[1m0s\u001b[0m 467ms/step - accuracy: 0.8299 - loss: 0.4211\n",
      "Epoch 97: ReduceLROnPlateau reducing learning rate to 2.6999998226528985e-06.\n",
      "\n",
      "Epoch 97: val_accuracy did not improve from 0.83777\n",
      "\u001b[1m55/55\u001b[0m \u001b[32m━━━━━━━━━━━━━━━━━━━━\u001b[0m\u001b[37m\u001b[0m \u001b[1m31s\u001b[0m 556ms/step - accuracy: 0.8302 - loss: 0.4206 - val_accuracy: 0.8258 - val_loss: 0.5199 - learning_rate: 9.0000e-06\n",
      "Epoch 98/100\n",
      "\u001b[1m55/55\u001b[0m \u001b[32m━━━━━━━━━━━━━━━━━━━━\u001b[0m\u001b[37m\u001b[0m \u001b[1m0s\u001b[0m 476ms/step - accuracy: 0.8632 - loss: 0.3540\n",
      "Epoch 98: val_accuracy did not improve from 0.83777\n",
      "\u001b[1m55/55\u001b[0m \u001b[32m━━━━━━━━━━━━━━━━━━━━\u001b[0m\u001b[37m\u001b[0m \u001b[1m31s\u001b[0m 566ms/step - accuracy: 0.8630 - loss: 0.3545 - val_accuracy: 0.8271 - val_loss: 0.5185 - learning_rate: 2.7000e-06\n",
      "Epoch 99/100\n",
      "\u001b[1m55/55\u001b[0m \u001b[32m━━━━━━━━━━━━━━━━━━━━\u001b[0m\u001b[37m\u001b[0m \u001b[1m0s\u001b[0m 480ms/step - accuracy: 0.8770 - loss: 0.3228\n",
      "Epoch 99: val_accuracy did not improve from 0.83777\n",
      "\u001b[1m55/55\u001b[0m \u001b[32m━━━━━━━━━━━━━━━━━━━━\u001b[0m\u001b[37m\u001b[0m \u001b[1m31s\u001b[0m 570ms/step - accuracy: 0.8767 - loss: 0.3233 - val_accuracy: 0.8285 - val_loss: 0.5151 - learning_rate: 2.7000e-06\n",
      "Epoch 100/100\n",
      "\u001b[1m55/55\u001b[0m \u001b[32m━━━━━━━━━━━━━━━━━━━━\u001b[0m\u001b[37m\u001b[0m \u001b[1m0s\u001b[0m 474ms/step - accuracy: 0.8535 - loss: 0.3671\n",
      "Epoch 100: val_accuracy did not improve from 0.83777\n",
      "\u001b[1m55/55\u001b[0m \u001b[32m━━━━━━━━━━━━━━━━━━━━\u001b[0m\u001b[37m\u001b[0m \u001b[1m31s\u001b[0m 559ms/step - accuracy: 0.8536 - loss: 0.3669 - val_accuracy: 0.8311 - val_loss: 0.5165 - learning_rate: 2.7000e-06\n"
     ]
    }
   ],
   "source": [
    "history = model.fit(\n",
    "    datagen.flow(X_train, y_train, batch_size=32),\n",
    "    epochs=100,\n",
    "    validation_data=(X_test, y_test),\n",
    "    callbacks=callbacks\n",
    ")"
   ]
  },
  {
   "cell_type": "code",
   "execution_count": 23,
   "id": "7afa5912-8233-461c-873f-ac727379052f",
   "metadata": {},
   "outputs": [
    {
     "name": "stdout",
     "output_type": "stream",
     "text": [
      "\u001b[1m24/24\u001b[0m \u001b[32m━━━━━━━━━━━━━━━━━━━━\u001b[0m\u001b[37m\u001b[0m \u001b[1m5s\u001b[0m 205ms/step - accuracy: 0.8457 - loss: 0.5006\n",
      "Test Accuracy: 83.78%\n"
     ]
    }
   ],
   "source": [
    "# Cell 9: Evaluate the Model\n",
    "loss, accuracy = model.evaluate(X_test, y_test)\n",
    "print(f\"Test Accuracy: {accuracy * 100:.2f}%\")"
   ]
  },
  {
   "cell_type": "code",
   "execution_count": 24,
   "id": "7b829341-acdb-4547-97c0-9228dc1ebcc4",
   "metadata": {},
   "outputs": [
    {
     "name": "stdout",
     "output_type": "stream",
     "text": [
      "\u001b[1m24/24\u001b[0m \u001b[32m━━━━━━━━━━━━━━━━━━━━\u001b[0m\u001b[37m\u001b[0m \u001b[1m10s\u001b[0m 299ms/step\n",
      "              precision    recall  f1-score   support\n",
      "\n",
      "     Class 0       0.92      0.93      0.92       249\n",
      "     Class 1       0.78      0.87      0.82       275\n",
      "     Class 2       0.82      0.70      0.76       228\n",
      "\n",
      "    accuracy                           0.84       752\n",
      "   macro avg       0.84      0.83      0.83       752\n",
      "weighted avg       0.84      0.84      0.84       752\n",
      "\n",
      "Confusion Matrix:\n",
      "[[232   6  11]\n",
      " [ 13 239  23]\n",
      " [  8  61 159]]\n"
     ]
    }
   ],
   "source": [
    "from sklearn.metrics import classification_report, confusion_matrix\n",
    "import numpy as np\n",
    "\n",
    "# Predict classes\n",
    "y_pred_probs = model.predict(X_test)\n",
    "y_pred = np.argmax(y_pred_probs, axis=1)\n",
    "y_true = np.argmax(y_test, axis=1)\n",
    "\n",
    "# Classification report\n",
    "print(classification_report(y_true, y_pred, target_names=['Class 0', 'Class 1', 'Class 2']))\n",
    "\n",
    "# Confusion matrix\n",
    "cm = confusion_matrix(y_true, y_pred)\n",
    "print(\"Confusion Matrix:\")\n",
    "print(cm)"
   ]
  },
  {
   "cell_type": "code",
   "execution_count": 25,
   "id": "64da739f-63cf-4553-ad3e-d6798eac308c",
   "metadata": {},
   "outputs": [
    {
     "data": {
      "image/png": "[encoded data removed]",
      "text/plain": [
       "<Figure size 640x480 with 1 Axes>"
      ]
     },
     "metadata": {},
     "output_type": "display_data"
    },
    {
     "data": {
      "image/png": "[encoded data removed]",
      "text/plain": [
       "<Figure size 640x480 with 1 Axes>"
      ]
     },
     "metadata": {},
     "output_type": "display_data"
    }
   ],
   "source": [
    "import matplotlib.pyplot as plt\n",
    "\n",
    "# Accuracy plot\n",
    "plt.plot(history.history['accuracy'], label='Train Accuracy')\n",
    "plt.plot(history.history['val_accuracy'], label='Val Accuracy')\n",
    "plt.title('Model Accuracy')\n",
    "plt.xlabel('Epoch')\n",
    "plt.ylabel('Accuracy')\n",
    "plt.legend()\n",
    "plt.grid(True)\n",
    "plt.show()\n",
    "\n",
    "# Loss plot\n",
    "plt.plot(history.history['loss'], label='Train Loss')\n",
    "plt.plot(history.history['val_loss'], label='Val Loss')\n",
    "plt.title('Model Loss')\n",
    "plt.xlabel('Epoch')\n",
    "plt.ylabel('Loss')\n",
    "plt.legend()\n",
    "plt.grid(True)\n",
    "plt.show()"
   ]
  },
  {
   "cell_type": "code",
   "execution_count": 26,
   "id": "233cf22e-39f8-472f-80a0-739ca6624557",
   "metadata": {},
   "outputs": [
    {
     "name": "stdout",
     "output_type": "stream",
     "text": [
      "\u001b[1m24/24\u001b[0m \u001b[32m━━━━━━━━━━━━━━━━━━━━\u001b[0m\u001b[37m\u001b[0m \u001b[1m5s\u001b[0m 196ms/step\n"
     ]
    },
    {
     "data": {
      "image/png": "[encoded data removed]",
      "text/plain": [
       "<Figure size 800x600 with 2 Axes>"
      ]
     },
     "metadata": {},
     "output_type": "display_data"
    }
   ],
   "source": [
    "import seaborn as sns\n",
    "import matplotlib.pyplot as plt\n",
    "from sklearn.metrics import confusion_matrix\n",
    "import numpy as np\n",
    "\n",
    "# Predict on test data\n",
    "y_pred_probs = model.predict(X_test)\n",
    "y_pred = np.argmax(y_pred_probs, axis=1)\n",
    "y_true = np.argmax(y_test, axis=1)\n",
    "\n",
    "# Compute confusion matrix\n",
    "cm = confusion_matrix(y_true, y_pred)\n",
    "\n",
    "# Define class labels\n",
    "class_names = ['No Crack', 'Small Crack', 'Heavy Crack']  # Update if needed\n",
    "\n",
    "# Plot heatmap\n",
    "plt.figure(figsize=(8, 6))\n",
    "sns.heatmap(cm, annot=True, fmt='d', cmap='Blues',\n",
    "            xticklabels=class_names,\n",
    "            yticklabels=class_names)\n",
    "\n",
    "plt.title('Confusion Matrix Heatmap')\n",
    "plt.xlabel('Predicted')\n",
    "plt.ylabel('Actual')\n",
    "plt.show()"
   ]
  },
  {
   "cell_type": "code",
   "execution_count": 37,
   "id": "e132c761-a9b2-4acb-8a28-dc43bbfc345a",
   "metadata": {},
   "outputs": [
    {
     "name": "stdout",
     "output_type": "stream",
     "text": [
      "\u001b[1m1/1\u001b[0m \u001b[32m━━━━━━━━━━━━━━━━━━━━\u001b[0m\u001b[37m\u001b[0m \u001b[1m0s\u001b[0m 125ms/step\n"
     ]
    },
    {
     "data": {
      "image/png": "[encoded data removed]",
      "text/plain": [
       "<Figure size 400x400 with 1 Axes>"
      ]
     },
     "metadata": {},
     "output_type": "display_data"
    }
   ],
   "source": [
    "import random\n",
    "import matplotlib.pyplot as plt\n",
    "import numpy as np\n",
    "\n",
    "# Class labels mapping\n",
    "class_names = ['No Crack', 'Small Crack', 'Heavy Crack']\n",
    "\n",
    "# Pick a random index from the test set\n",
    "idx = random.randint(0, len(X_test) - 1)\n",
    "\n",
    "# Get the image and its true label\n",
    "sample_image = X_test[idx]\n",
    "true_label = np.argmax(y_test[idx])\n",
    "\n",
    "# Expand dimensions and predict\n",
    "pred_probs = model.predict(np.expand_dims(sample_image, axis=0))\n",
    "pred_label = np.argmax(pred_probs)\n",
    "\n",
    "# Plot the image with prediction info\n",
    "plt.figure(figsize=(4, 4))\n",
    "plt.imshow(sample_image)\n",
    "plt.axis('off')\n",
    "plt.title(f\"Predicted: {class_names[pred_label]}\\nActual: {class_names[true_label]}\")\n",
    "plt.show()"
   ]
  },
  {
   "cell_type": "code",
   "execution_count": 32,
   "id": "cd340f46-7051-4e4f-aafc-8a0fde36d04f",
   "metadata": {},
   "outputs": [
    {
     "name": "stdout",
     "output_type": "stream",
     "text": [
      "Confidence: 99.97%\n"
     ]
    }
   ],
   "source": [
    "confidence = pred_probs[0][pred_label] * 100\n",
    "print(f\"Confidence: {confidence:.2f}%\")"
   ]
  },
  {
   "cell_type": "code",
   "execution_count": 35,
   "id": "749d4c7b-a43d-41f5-8ea9-8c991f880bdc",
   "metadata": {},
   "outputs": [
    {
     "name": "stdout",
     "output_type": "stream",
     "text": [
      "\u001b[1m24/24\u001b[0m \u001b[32m━━━━━━━━━━━━━━━━━━━━\u001b[0m\u001b[37m\u001b[0m \u001b[1m5s\u001b[0m 215ms/step\n",
      "              precision    recall  f1-score   support\n",
      "\n",
      "    No Crack       0.92      0.93      0.92       249\n",
      " Small Crack       0.78      0.87      0.82       275\n",
      " Heavy Crack       0.82      0.70      0.76       228\n",
      "\n",
      "    accuracy                           0.84       752\n",
      "   macro avg       0.84      0.83      0.83       752\n",
      "weighted avg       0.84      0.84      0.84       752\n",
      "\n"
     ]
    }
   ],
   "source": [
    "from sklearn.metrics import classification_report\n",
    "\n",
    "y_pred = model.predict(X_test)\n",
    "y_pred_classes = np.argmax(y_pred, axis=1)\n",
    "y_true = np.argmax(y_test, axis=1)\n",
    "\n",
    "print(classification_report(y_true, y_pred_classes, target_names=class_names))"
   ]
  },
  {
   "cell_type": "code",
   "execution_count": 2,
   "id": "796e6874-c784-4bf3-aa62-5a9f42f83eef",
   "metadata": {},
   "outputs": [
    {
     "ename": "NameError",
     "evalue": "name 'image_data' is not defined",
     "output_type": "error",
     "traceback": [
      "\u001b[1;31m---------------------------------------------------------------------------\u001b[0m",
      "\u001b[1;31mNameError\u001b[0m                                 Traceback (most recent call last)",
      "Cell \u001b[1;32mIn[2], line 2\u001b[0m\n\u001b[0;32m      1\u001b[0m \u001b[38;5;28;01mfrom\u001b[39;00m\u001b[38;5;250m \u001b[39m\u001b[38;5;21;01mcollections\u001b[39;00m\u001b[38;5;250m \u001b[39m\u001b[38;5;28;01mimport\u001b[39;00m Counter\n\u001b[1;32m----> 2\u001b[0m \u001b[38;5;28mprint\u001b[39m(Counter([item[\u001b[38;5;124m'\u001b[39m\u001b[38;5;124mlabels\u001b[39m\u001b[38;5;124m'\u001b[39m][\u001b[38;5;241m0\u001b[39m] \u001b[38;5;28;01mfor\u001b[39;00m item \u001b[38;5;129;01min\u001b[39;00m \u001b[43mimage_data\u001b[49m]))\n",
      "\u001b[1;31mNameError\u001b[0m: name 'image_data' is not defined"
     ]
    }
   ],
   "source": [
    "from collections import Counter\n",
    "print(Counter([item['labels'][0] for item in image_data]))"
   ]
  },
  {
   "cell_type": "code",
   "execution_count": 44,
   "id": "de234ccb-2ff6-46aa-93b9-93fd2508735b",
   "metadata": {},
   "outputs": [
    {
     "name": "stderr",
     "output_type": "stream",
     "text": [
      "WARNING:absl:You are saving your model as an HDF5 file via `model.save()` or `keras.saving.save_model(model)`. This file format is considered legacy. We recommend using instead the native Keras format, e.g. `model.save('my_model.keras')` or `keras.saving.save_model(model, 'my_model.keras')`. \n"
     ]
    },
    {
     "name": "stdout",
     "output_type": "stream",
     "text": [
      "model saved!\n"
     ]
    }
   ],
   "source": [
    "# Save the full model (architecture + weights + optimizer state)\n",
    "model.save(\"mobilenetv2_crack_detector.h5\")\n",
    "print(\"model saved!\")"
   ]
  },
  {
   "cell_type": "code",
   "execution_count": null,
   "id": "3f4e5139-ef6c-429a-97b4-22199f6b9776",
   "metadata": {},
   "outputs": [],
   "source": []
  }
 ],
 "metadata": {
  "kernelspec": {
   "display_name": "Python 3.10 (tf_env)",
   "language": "python",
   "name": "tf_env"
  },
  "language_info": {
   "codemirror_mode": {
    "name": "ipython",
    "version": 3
   },
   "file_extension": ".py",
   "mimetype": "text/x-python",
   "name": "python",
   "nbconvert_exporter": "python",
   "pygments_lexer": "ipython3",
   "version": "3.10.9"
  }
 },
 "nbformat": 4,
 "nbformat_minor": 5
}
